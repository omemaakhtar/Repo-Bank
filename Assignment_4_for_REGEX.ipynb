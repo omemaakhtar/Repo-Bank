{
  "nbformat": 4,
  "nbformat_minor": 0,
  "metadata": {
    "colab": {
      "provenance": [],
      "authorship_tag": "ABX9TyNDKGNVajzayaGgyBMJHAOM",
      "include_colab_link": true
    },
    "kernelspec": {
      "name": "python3",
      "display_name": "Python 3"
    },
    "language_info": {
      "name": "python"
    }
  },
  "cells": [
    {
      "cell_type": "markdown",
      "metadata": {
        "id": "view-in-github",
        "colab_type": "text"
      },
      "source": [
        "<a href=\"https://colab.research.google.com/github/omemaakhtar/Repo-Bank/blob/main/Assignment_4_for_REGEX.ipynb\" target=\"_parent\"><img src=\"https://colab.research.google.com/assets/colab-badge.svg\" alt=\"Open In Colab\"/></a>"
      ]
    },
    {
      "cell_type": "code",
      "execution_count": null,
      "metadata": {
        "id": "rgA8tUvs5yhW"
      },
      "outputs": [],
      "source": []
    },
    {
      "cell_type": "markdown",
      "source": [
        "Advanced Regular Expression Assignments\n",
        "1: Extracting Phone Numbers\n",
        "Raw Text: Extract all valid Pakistani phone numbers from a given text.\n",
        "\n",
        "Example:\n",
        "\n",
        "Text: Please contact me at 0301-1234567 or 042-35678901 for further details."
      ],
      "metadata": {
        "id": "2dYzQHC75zUT"
      }
    },
    {
      "cell_type": "code",
      "source": [
        "import re\n",
        "text = \"\"\"\n",
        "Please contact me at 0301-1234567 or 042-35678901 for further details\"\"\"\n",
        "pattern = r\"\\d{4}-\\d{7}\"\n",
        "a = re.findall(pattern, text)\n",
        "a\n"
      ],
      "metadata": {
        "colab": {
          "base_uri": "https://localhost:8080/"
        },
        "id": "zGeXSr4158LD",
        "outputId": "34e4e4e8-e81a-4982-e8cb-5cad5b5cfda0"
      },
      "execution_count": null,
      "outputs": [
        {
          "output_type": "execute_result",
          "data": {
            "text/plain": [
              "['0301-1234567']"
            ]
          },
          "metadata": {},
          "execution_count": 1
        }
      ]
    },
    {
      "cell_type": "markdown",
      "source": [
        "Assignment 2: Validating Email Addresses\n",
        "Raw Text: Validate email addresses according to Pakistani domain extensions (.pk).\n",
        "\n",
        "Example:\n",
        "\n",
        "Text: Contact us at info@example.com or support@domain.pk for assistance."
      ],
      "metadata": {
        "id": "oivb4eKJDXwN"
      }
    },
    {
      "cell_type": "code",
      "source": [
        "import re\n",
        "text =\"\"\" contact us at info@example.com or support@domain.pk for assistance\"\"\"\n",
        "pattern = r\"\\b([\\w\\-\\.+@[\\w]+\\.pk)\\b\"\n",
        "a = re.findall(pattern, text, re.MULTILINE)\n",
        "a\n"
      ],
      "metadata": {
        "colab": {
          "base_uri": "https://localhost:8080/"
        },
        "id": "SohRs-WqDZgs",
        "outputId": "25bbb4ce-173e-42ec-d02d-3635ea1e1def"
      },
      "execution_count": null,
      "outputs": [
        {
          "output_type": "execute_result",
          "data": {
            "text/plain": [
              "['support@domain.pk']"
            ]
          },
          "metadata": {},
          "execution_count": 4
        }
      ]
    },
    {
      "cell_type": "markdown",
      "source": [
        "Assignment 3: Extracting CNIC Numbers\n",
        "Raw Text: Extract all Pakistani CNIC (Computerized National Identity Card) numbers from a given text.\n",
        "\n",
        "Example:\n",
        "\n",
        "Text: My CNIC is 12345-6789012-3 and another one is 34567-8901234-5."
      ],
      "metadata": {
        "id": "KyoQ_jz_EhU0"
      }
    },
    {
      "cell_type": "code",
      "source": [
        "import re\n",
        "text = \"\"\"My CNIC is 12345-6789012-3 and another one is 34567-8901234-5\"\"\"\n",
        "pattern = r\"\\d{5}[-]\\d{7}[-]\\d\"\n",
        "a = re.findall(pattern, text)\n",
        "a"
      ],
      "metadata": {
        "colab": {
          "base_uri": "https://localhost:8080/"
        },
        "id": "oRhS0oL1ElnE",
        "outputId": "e2a5828d-d0c2-48b0-e464-e62ead9d9546"
      },
      "execution_count": null,
      "outputs": [
        {
          "output_type": "execute_result",
          "data": {
            "text/plain": [
              "['12345-6789012-3', '34567-8901234-5']"
            ]
          },
          "metadata": {},
          "execution_count": 6
        }
      ]
    },
    {
      "cell_type": "markdown",
      "source": [
        "Assignment 4: Identifying Urdu Words\n",
        "Raw Text: Identify and extract Urdu words from a mixed English-Urdu text.\n",
        "\n",
        "Example:\n",
        "\n",
        "Text: یہ sentence میں کچھ English words بھی ہیں۔"
      ],
      "metadata": {
        "id": "zifRXiQbFQ8h"
      }
    },
    {
      "cell_type": "code",
      "source": [
        "import re\n",
        "text = \"\"\"ہ sentence میں کچھ English words بھی ہیں۔\n",
        "\"\"\"\n",
        "pattern = r\"\\b([^\\s\\-a-zA-Z]+\\b)\"\n",
        "a = re.findall(pattern, text)\n",
        "a"
      ],
      "metadata": {
        "colab": {
          "base_uri": "https://localhost:8080/"
        },
        "id": "wG6r59S-FVKu",
        "outputId": "b0065a59-8b54-4f96-ed98-15bfa935b4d5"
      },
      "execution_count": null,
      "outputs": [
        {
          "output_type": "execute_result",
          "data": {
            "text/plain": [
              "['ہ', 'میں', 'کچھ', 'بھی', 'ہیں']"
            ]
          },
          "metadata": {},
          "execution_count": 8
        }
      ]
    },
    {
      "cell_type": "markdown",
      "source": [
        "Assignment 5: Finding Dates\n",
        "Raw Text: Find and extract dates in the format DD-MM-YYYY from a given text.\n",
        "\n",
        "Example:\n",
        "\n",
        "Text: The event will take place on 15-08-2023 and 23-09-2023."
      ],
      "metadata": {
        "id": "W-xeKU_SGICl"
      }
    },
    {
      "cell_type": "code",
      "source": [
        "import re\n",
        "text = \"\"\"The event will take place on 15-08-2023 and 23-09-2023\"\"\"\n",
        "pattern = r\"\\d{2}[-]\\d{2}[-]\\d{4}\"\n",
        "a = re.findall(pattern, text)\n",
        "a"
      ],
      "metadata": {
        "colab": {
          "base_uri": "https://localhost:8080/"
        },
        "id": "rDUDv7aqGLm8",
        "outputId": "5592cf93-903f-4654-cec0-da92b64803b4"
      },
      "execution_count": null,
      "outputs": [
        {
          "output_type": "execute_result",
          "data": {
            "text/plain": [
              "['15-08-2023', '23-09-2023']"
            ]
          },
          "metadata": {},
          "execution_count": 9
        }
      ]
    },
    {
      "cell_type": "markdown",
      "source": [
        "Assignment 6: Extracting URLs\n",
        "Raw Text: Extract all URLs from a text that belong to Pakistani domains.\n",
        "\n",
        "Example:\n",
        "\n",
        "Text: Visit http://www.example.pk or https://website.com.pk for more information."
      ],
      "metadata": {
        "id": "ghZsoYOIbHN5"
      }
    },
    {
      "cell_type": "code",
      "source": [
        "import re\n",
        "text = \"\"\" visit http//www.example.pk or https//website.com.pk for more information \"\"\"\n",
        "pattern = r\"\\b([https//]+[\\w]+\\.[\\w]+\\.pk)\\b\"\n",
        "a = re.findall(pattern, text, re.MULTILINE)\n",
        "a"
      ],
      "metadata": {
        "colab": {
          "base_uri": "https://localhost:8080/"
        },
        "id": "ZGXjT-lLbKu1",
        "outputId": "293a7495-ecb9-4dec-e3e1-521ef6d1ee7b"
      },
      "execution_count": null,
      "outputs": [
        {
          "output_type": "execute_result",
          "data": {
            "text/plain": [
              "['http//www.example.pk', 'https//website.com.pk']"
            ]
          },
          "metadata": {},
          "execution_count": 6
        }
      ]
    },
    {
      "cell_type": "markdown",
      "source": [
        "Assignment 7: Analyzing Currency\n",
        "Raw Text: Extract and analyze currency amounts in Pakistani Rupees (PKR) from a given text.\n",
        "\n",
        "Example:\n",
        "\n",
        "Text: The product costs PKR 1500, while the deluxe version is priced at Rs. 2500."
      ],
      "metadata": {
        "id": "aACIM-_8c18L"
      }
    },
    {
      "cell_type": "code",
      "source": [
        "text = \"\"\" the product costs PKR 1500, while the deluxe version is prcied at Rs. 2500\"\"\"\n",
        "pattern = r\"[0-9]+\"\n",
        "a= re.findall(pattern,text)\n",
        "a"
      ],
      "metadata": {
        "colab": {
          "base_uri": "https://localhost:8080/"
        },
        "id": "LZoS6cw5c5Ml",
        "outputId": "60d3d8a4-2ddd-4ffb-e83a-6d669119ea34"
      },
      "execution_count": null,
      "outputs": [
        {
          "output_type": "execute_result",
          "data": {
            "text/plain": [
              "['1500', '2500']"
            ]
          },
          "metadata": {},
          "execution_count": 8
        }
      ]
    },
    {
      "cell_type": "markdown",
      "source": [
        "Assignment 8: Removing Punctuation\n",
        "Raw Text: Remove all punctuation marks from a text while preserving Urdu characters.\n",
        "\n",
        "Example:\n",
        "\n",
        "Text: کیا! آپ, یہاں؟"
      ],
      "metadata": {
        "id": "6tZoq5ppdfwx"
      }
    },
    {
      "cell_type": "code",
      "source": [
        "import re\n",
        "text = \"\"\"کیا! آپ, یہاں؟\"\"\"\n",
        "pattern = r\"[^\\W]+\"\n",
        "a = re.findall(pattern, text, re.MULTILINE)\n",
        "a"
      ],
      "metadata": {
        "colab": {
          "base_uri": "https://localhost:8080/"
        },
        "id": "nAG1dEVVdivY",
        "outputId": "c16e4c48-0a69-4a4b-c95e-b8a258463468"
      },
      "execution_count": null,
      "outputs": [
        {
          "output_type": "execute_result",
          "data": {
            "text/plain": [
              "['کیا', 'آپ', 'یہاں']"
            ]
          },
          "metadata": {},
          "execution_count": 15
        }
      ]
    },
    {
      "cell_type": "markdown",
      "source": [
        "Assignment 9: Extracting City Names\n",
        "Raw Text: Extract names of Pakistani cities from a given text.\n",
        "\n",
        "Example:\n",
        "\n",
        "Text: Lahore, Karachi, Islamabad, and Peshawar are major cities of Pakistan."
      ],
      "metadata": {
        "id": "ljgWY-DVehyV"
      }
    },
    {
      "cell_type": "code",
      "source": [
        "import re\n",
        "\n",
        "text = \"\"\" Lahore, Karachi, Islamabad and Peshawar are major cities of Pakistan.\"\"\"\n",
        "pattern = r\"\\b\\w+\\b\"\n",
        "\n",
        "# Use re.finditer to iterate over the matches\n",
        "matches = re.finditer(pattern, text)\n",
        "\n",
        "# Extract city names into a list\n",
        "city_names = [match.group() for match in matches]\n",
        "\n",
        "print(city_names)\n"
      ],
      "metadata": {
        "id": "GAPqdO8CekWU",
        "colab": {
          "base_uri": "https://localhost:8080/"
        },
        "outputId": "0f570095-e0f1-468b-8f41-ea983ed5a56d"
      },
      "execution_count": 38,
      "outputs": [
        {
          "output_type": "stream",
          "name": "stdout",
          "text": [
            "['Lahore', 'Karachi', 'Islamabad', 'and', 'Peshawar', 'are', 'major', 'cities', 'of', 'Pakistan']\n"
          ]
        }
      ]
    },
    {
      "cell_type": "markdown",
      "source": [
        "ssignment 10: Analyzing Vehicle Numbers\n",
        "Raw Text: Identify and extract Pakistani vehicle registration numbers (e.g., ABC-123) from a text.\n",
        "\n",
        "Example:\n",
        "\n",
        "Text: I saw a car with the number plate LEA-567 near the market."
      ],
      "metadata": {
        "id": "alihZ3xUiG0J"
      }
    },
    {
      "cell_type": "code",
      "source": [
        "import re\n",
        "text = \"\"\" I saw a car with the number plate\n",
        "LEA-567 near the market \"\"\"\n",
        "pattern= r\"\\w{3}[-]\\d{3}\"\n",
        "a= re.findall(pattern, text)\n",
        "print(a)"
      ],
      "metadata": {
        "colab": {
          "base_uri": "https://localhost:8080/"
        },
        "id": "Wu8UzGnRiHlo",
        "outputId": "68cedf5c-019e-463c-ce92-a85114efa293"
      },
      "execution_count": 36,
      "outputs": [
        {
          "output_type": "stream",
          "name": "stdout",
          "text": [
            "['LEA-567']\n"
          ]
        }
      ]
    }
  ]
}