{
  "nbformat": 4,
  "nbformat_minor": 0,
  "metadata": {
    "colab": {
      "provenance": [],
      "gpuType": "T4",
      "authorship_tag": "ABX9TyP8p4PUDiDrq9ljVCKqKGy8",
      "include_colab_link": true
    },
    "kernelspec": {
      "name": "python3",
      "display_name": "Python 3"
    },
    "language_info": {
      "name": "python"
    },
    "accelerator": "GPU"
  },
  "cells": [
    {
      "cell_type": "markdown",
      "metadata": {
        "id": "view-in-github",
        "colab_type": "text"
      },
      "source": [
        "<a href=\"https://colab.research.google.com/github/omemaakhtar/Repo-Bank/blob/main/Image_Classification_using_Transfer_learning_.ipynb\" target=\"_parent\"><img src=\"https://colab.research.google.com/assets/colab-badge.svg\" alt=\"Open In Colab\"/></a>"
      ]
    },
    {
      "cell_type": "code",
      "execution_count": 1,
      "metadata": {
        "colab": {
          "base_uri": "https://localhost:8080/",
          "height": 183
        },
        "collapsed": true,
        "id": "BGNICWTDfgpM",
        "outputId": "1cf5c320-306c-44f9-da12-1a1096c1592b"
      },
      "outputs": [
        {
          "output_type": "error",
          "ename": "FileNotFoundError",
          "evalue": "[Errno 2] No such file or directory: '/content/Image-Classification-Transfer-Learning/Dataset'",
          "traceback": [
            "\u001b[0;31m---------------------------------------------------------------------------\u001b[0m",
            "\u001b[0;31mFileNotFoundError\u001b[0m                         Traceback (most recent call last)",
            "\u001b[0;32m<ipython-input-1-22089b107df3>\u001b[0m in \u001b[0;36m<cell line: 7>\u001b[0;34m()\u001b[0m\n\u001b[1;32m      5\u001b[0m \u001b[0;34m\u001b[0m\u001b[0m\n\u001b[1;32m      6\u001b[0m \u001b[0;31m# List the contents of the Dataset directory\u001b[0m\u001b[0;34m\u001b[0m\u001b[0;34m\u001b[0m\u001b[0m\n\u001b[0;32m----> 7\u001b[0;31m \u001b[0mos\u001b[0m\u001b[0;34m.\u001b[0m\u001b[0mlistdir\u001b[0m\u001b[0;34m(\u001b[0m\u001b[0mdataset_dir\u001b[0m\u001b[0;34m)\u001b[0m\u001b[0;34m\u001b[0m\u001b[0;34m\u001b[0m\u001b[0m\n\u001b[0m",
            "\u001b[0;31mFileNotFoundError\u001b[0m: [Errno 2] No such file or directory: '/content/Image-Classification-Transfer-Learning/Dataset'"
          ]
        }
      ],
      "source": [
        "import os\n",
        "\n",
        "# Define paths\n",
        "dataset_dir = '/content/Image-Classification-Transfer-Learning/Dataset'\n",
        "\n",
        "# List the contents of the Dataset directory\n",
        "os.listdir(dataset_dir)\n"
      ]
    },
    {
      "cell_type": "code",
      "source": [
        "!git clone https://github.com/miladfa7/Image-Classification-Transfer-Learning.git\n"
      ],
      "metadata": {
        "colab": {
          "base_uri": "https://localhost:8080/"
        },
        "id": "rARNIsl4gdmh",
        "outputId": "45292645-e328-407b-df0a-ce1b5e8fa32c"
      },
      "execution_count": 1,
      "outputs": [
        {
          "output_type": "stream",
          "name": "stdout",
          "text": [
            "Cloning into 'Image-Classification-Transfer-Learning'...\n",
            "remote: Enumerating objects: 2102, done.\u001b[K\n",
            "remote: Counting objects: 100% (18/18), done.\u001b[K\n",
            "remote: Compressing objects: 100% (17/17), done.\u001b[K\n",
            "remote: Total 2102 (delta 7), reused 6 (delta 1), pack-reused 2084 (from 1)\u001b[K\n",
            "Receiving objects: 100% (2102/2102), 90.89 MiB | 19.38 MiB/s, done.\n",
            "Resolving deltas: 100% (10/10), done.\n"
          ]
        }
      ]
    },
    {
      "cell_type": "code",
      "source": [
        "import os\n",
        "\n",
        "# Check the current working directory\n",
        "print(os.getcwd())\n",
        "\n",
        "# List the contents of the cloned repository\n",
        "os.listdir('/content/Image-Classification-Transfer-Learning')\n"
      ],
      "metadata": {
        "colab": {
          "base_uri": "https://localhost:8080/"
        },
        "id": "paBhXY0CglEZ",
        "outputId": "6fe1bf2a-7314-4841-94ad-415b150980ec"
      },
      "execution_count": 2,
      "outputs": [
        {
          "output_type": "stream",
          "name": "stdout",
          "text": [
            "/content\n"
          ]
        },
        {
          "output_type": "execute_result",
          "data": {
            "text/plain": [
              "['.git',\n",
              " 'ResNet_image_classification.py',\n",
              " 'README.md',\n",
              " 'Dataset',\n",
              " 'Augmentation.py',\n",
              " 'ResNet_image_classification.ipynb',\n",
              " 'images',\n",
              " 'Json_file.py']"
            ]
          },
          "metadata": {},
          "execution_count": 2
        }
      ]
    },
    {
      "cell_type": "code",
      "source": [
        "# Define the dataset path\n",
        "dataset_dir = '/content/Image-Classification-Transfer-Learning/Dataset'\n",
        "\n",
        "# List the contents of the Dataset directory\n",
        "os.listdir(dataset_dir)\n"
      ],
      "metadata": {
        "colab": {
          "base_uri": "https://localhost:8080/"
        },
        "id": "dBIFy-OPgwJq",
        "outputId": "dca108a2-7a9a-4001-e391-79c264850390"
      },
      "execution_count": 3,
      "outputs": [
        {
          "output_type": "execute_result",
          "data": {
            "text/plain": [
              "['test', 'training']"
            ]
          },
          "metadata": {},
          "execution_count": 3
        }
      ]
    },
    {
      "cell_type": "code",
      "source": [
        "# List the contents of the training directory\n",
        "training_dir = os.path.join(dataset_dir, 'training')\n",
        "test_dir = os.path.join(dataset_dir, 'test')\n",
        "\n",
        "print(\"Training Directory Contents:\")\n",
        "print(os.listdir(training_dir))\n",
        "\n",
        "print(\"\\nTest Directory Contents:\")\n",
        "print(os.listdir(test_dir))\n"
      ],
      "metadata": {
        "colab": {
          "base_uri": "https://localhost:8080/"
        },
        "id": "Q8aenf4cg2Ky",
        "outputId": "91d28f8a-8a45-44db-de37-1c41c7376f41"
      },
      "execution_count": 4,
      "outputs": [
        {
          "output_type": "stream",
          "name": "stdout",
          "text": [
            "Training Directory Contents:\n",
            "['grand-piano', 'fireworks', 'airplanes', 'owl', 'waterfall', 'calculator', 'lightning', 'school-bus', 'galaxy', 'mountain-bike', 'lightbulb', 'wine-bottle', 'sword', 'bear', 'sheet-music', 't-shirt', 'skyscraper', 'kangaroo', 'laptop', 'computer-monitor']\n",
            "\n",
            "Test Directory Contents:\n",
            "['IMG_1285.jpg', 'IMG_1771.jpg', 'IMG_1494.jpg', 'IMG_501.jpg', 'IMG_1747.jpg', 'IMG_1342.jpg', 'IMG_873.jpg', 'IMG_1377.jpg', 'IMG_775.jpg', 'IMG_1444.jpg', 'IMG_1851.jpg', 'IMG_572.jpg', 'IMG_1600.jpg', 'IMG_1756.jpg', 'IMG_89.jpg', 'IMG_68.jpg', 'IMG_2007.jpg', 'IMG_1155.jpg', 'IMG_2031.jpg', 'IMG_515.jpg', 'IMG_1436.jpg', 'IMG_999.jpg', 'IMG_227.jpg', 'IMG_1512.jpg', 'IMG_524.jpg', 'IMG_539.jpg', 'IMG_938.jpg', 'IMG_34.jpg', 'IMG_1699.jpg', 'IMG_206.jpg', 'IMG_893.jpg', 'IMG_2010.jpg', 'IMG_151.jpg', 'IMG_1529.jpg', 'IMG_1643.jpg', 'IMG_1511.jpg', 'IMG_1211.jpg', 'IMG_1500.jpg', 'IMG_98.jpg', 'IMG_887.jpg', 'IMG_1966.jpg', 'IMG_280.jpg', 'IMG_1768.jpg', 'IMG_866.jpg', 'IMG_329.jpg', 'IMG_912.jpg', 'IMG_1023.jpg', 'IMG_1872.jpg', 'IMG_1322.jpg', 'IMG_1235.jpg', 'IMG_66.jpg', 'IMG_35.jpg', 'IMG_175.jpg', 'IMG_312.jpg', 'IMG_2041.jpg', 'IMG_844.jpg', 'IMG_944.jpg', 'IMG_1415.jpg', 'IMG_581.jpg', 'IMG_1520.jpg', 'IMG_1557.jpg', 'IMG_1058.jpg', 'IMG_664.jpg', 'IMG_691.jpg', 'IMG_2005.jpg', 'IMG_744.jpg', 'IMG_355.jpg', 'IMG_1228.jpg', 'IMG_123.jpg', 'IMG_1481.jpg', 'IMG_1659.jpg', 'IMG_817.jpg', 'IMG_48.jpg', 'IMG_567.jpg', 'IMG_1264.jpg', 'IMG_237.jpg', 'IMG_1298.jpg', 'IMG_1268.jpg', 'IMG_167.jpg', 'IMG_1780.jpg', 'IMG_1339.jpg', 'IMG_512.jpg', 'IMG_1238.jpg', 'IMG_1989.jpg', 'IMG_1820.jpg', 'IMG_671.jpg', 'IMG_1831.jpg', 'IMG_598.jpg', 'IMG_1882.jpg', 'IMG_710.jpg', 'IMG_932.jpg', 'IMG_785.jpg', 'IMG_1163.jpg', 'IMG_1046.jpg', 'IMG_1674.jpg', 'IMG_1915.jpg', 'IMG_163.jpg', 'IMG_1991.jpg', 'IMG_1420.jpg', 'IMG_51.jpg', 'IMG_1199.jpg', 'IMG_421.jpg', 'IMG_61.jpg', 'IMG_32.jpg', 'IMG_1133.jpg', 'IMG_2021.jpg', 'IMG_1977.jpg', 'IMG_542.jpg', 'IMG_1183.jpg', 'IMG_1544.jpg', 'IMG_57.jpg', 'IMG_1213.jpg', 'IMG_1852.jpg', 'IMG_852.jpg', 'IMG_1468.jpg', 'IMG_2052.jpg', 'IMG_813.jpg', 'IMG_1912.jpg', 'IMG_837.jpg', 'IMG_223.jpg', 'IMG_92.jpg', 'IMG_1646.jpg', 'IMG_1706.jpg', 'IMG_682.jpg', 'IMG_1871.jpg', 'IMG_273.jpg', 'IMG_451.jpg', 'IMG_1344.jpg', 'IMG_1484.jpg', 'IMG_621.jpg', 'IMG_956.jpg', 'IMG_1550.jpg', 'IMG_1209.jpg', 'IMG_1422.jpg', 'IMG_1837.jpg', 'IMG_1723.jpg', 'IMG_606.jpg', 'IMG_561.jpg', 'IMG_1892.jpg', 'IMG_2020.jpg', 'IMG_1836.jpg', 'IMG_1475.jpg', 'IMG_913.jpg', 'IMG_69.jpg', 'IMG_1466.jpg', 'IMG_113.jpg', 'IMG_1628.jpg', 'IMG_1206.jpg', 'IMG_517.jpg', 'IMG_1538.jpg', 'IMG_1509.jpg', 'IMG_1147.jpg', 'IMG_1042.jpg', 'IMG_269.jpg', 'IMG_1059.jpg', 'IMG_473.jpg', 'IMG_1650.jpg', 'IMG_794.jpg', 'IMG_1560.jpg', 'IMG_508.jpg', 'IMG_252.jpg', 'IMG_695.jpg', 'IMG_1819.jpg', 'IMG_298.jpg', 'IMG_950.jpg', 'IMG_942.jpg', 'IMG_195.jpg', 'IMG_367.jpg', 'IMG_1908.jpg', 'IMG_823.jpg', 'IMG_1803.jpg', 'IMG_1330.jpg', 'IMG_1506.jpg', 'IMG_635.jpg', 'IMG_59.jpg', 'IMG_1280.jpg', 'IMG_1814.jpg', 'IMG_420.jpg', 'IMG_379.jpg', 'IMG_1936.jpg', 'IMG_1080.jpg', 'IMG_789.jpg', 'IMG_169.jpg', 'IMG_702.jpg', 'IMG_1890.jpg', 'IMG_104.jpg', 'IMG_543.jpg', 'IMG_797.jpg', 'IMG_535.jpg', 'IMG_1442.jpg', 'IMG_423.jpg', 'IMG_1248.jpg', 'IMG_1217.jpg', 'IMG_878.jpg', 'IMG_1462.jpg', 'IMG_1212.jpg', 'IMG_730.jpg', 'IMG_72.jpg', 'IMG_756.jpg', 'IMG_1174.jpg', 'IMG_228.jpg', 'IMG_1902.jpg', 'IMG_1071.jpg', 'IMG_1541.jpg', 'IMG_550.jpg', 'IMG_867.jpg', 'IMG_0.jpg', 'IMG_1543.jpg', 'IMG_1143.jpg', 'IMG_764.jpg', 'IMG_1802.jpg', 'IMG_1429.jpg', 'IMG_485.jpg', 'IMG_1865.jpg', 'IMG_1483.jpg', 'IMG_1276.jpg', 'IMG_1370.jpg', 'IMG_1283.jpg', 'IMG_1308.jpg', 'IMG_1813.jpg', 'IMG_1307.jpg', 'IMG_884.jpg', 'IMG_270.jpg', 'IMG_1449.jpg', 'IMG_174.jpg', 'IMG_1349.jpg', 'IMG_674.jpg', 'IMG_708.jpg', 'IMG_681.jpg', 'IMG_1495.jpg', 'IMG_480.jpg', 'IMG_1661.jpg', 'IMG_1334.jpg', 'IMG_1419.jpg', 'IMG_405.jpg', 'IMG_67.jpg', 'IMG_1397.jpg', 'IMG_31.jpg', 'IMG_1011.jpg', 'IMG_952.jpg', 'IMG_2023.jpg', 'IMG_1935.jpg', 'IMG_1099.jpg', 'IMG_307.jpg', 'IMG_1741.jpg', 'IMG_119.jpg', 'IMG_134.jpg', 'IMG_461.jpg', 'IMG_1289.jpg', 'IMG_1713.jpg', 'IMG_880.jpg', 'IMG_497.jpg', 'IMG_249.jpg', 'IMG_478.jpg', 'IMG_1194.jpg', 'IMG_159.jpg', 'IMG_137.jpg', 'IMG_986.jpg', 'IMG_679.jpg', 'IMG_862.jpg', 'IMG_546.jpg', 'IMG_1684.jpg', 'IMG_1657.jpg', 'IMG_1072.jpg', 'IMG_1437.jpg', 'IMG_583.jpg', 'IMG_1885.jpg', 'IMG_1097.jpg', 'IMG_264.jpg', 'IMG_722.jpg', 'IMG_967.jpg', 'IMG_1501.jpg', 'IMG_1094.jpg', 'IMG_703.jpg', 'IMG_121.jpg', 'IMG_1179.jpg', 'IMG_1187.jpg', 'IMG_1623.jpg', 'IMG_815.jpg', 'IMG_135.jpg', 'IMG_293.jpg', 'IMG_105.jpg', 'IMG_1645.jpg', 'IMG_828.jpg', 'IMG_397.jpg', 'IMG_805.jpg', 'IMG_1591.jpg', 'IMG_982.jpg', 'IMG_2025.jpg', 'IMG_13.jpg', 'IMG_563.jpg', 'IMG_1406.jpg', 'IMG_603.jpg', 'IMG_1620.jpg', 'IMG_711.jpg', 'IMG_272.jpg', 'IMG_645.jpg', 'IMG_803.jpg', 'IMG_285.jpg', 'IMG_1854.jpg', 'IMG_1306.jpg', 'IMG_467.jpg', 'IMG_53.jpg', 'IMG_410.jpg', 'IMG_400.jpg', 'IMG_1703.jpg', 'IMG_1978.jpg', 'IMG_1354.jpg', 'IMG_1734.jpg', 'IMG_1811.jpg', 'IMG_919.jpg', 'IMG_1728.jpg', 'IMG_240.jpg', 'IMG_117.jpg', 'IMG_321.jpg', 'IMG_1923.jpg', 'IMG_1709.jpg', 'IMG_19.jpg', 'IMG_1270.jpg', 'IMG_262.jpg', 'IMG_377.jpg', 'IMG_558.jpg', 'IMG_1949.jpg', 'IMG_234.jpg', 'IMG_641.jpg', 'IMG_791.jpg', 'IMG_601.jpg', 'IMG_384.jpg', 'IMG_513.jpg', 'IMG_2000.jpg', 'IMG_1979.jpg', 'IMG_214.jpg', 'IMG_261.jpg', 'IMG_1459.jpg', 'IMG_904.jpg', 'IMG_1214.jpg', 'IMG_914.jpg', 'IMG_755.jpg', 'IMG_233.jpg', 'IMG_607.jpg', 'IMG_864.jpg', 'IMG_1384.jpg', 'IMG_96.jpg', 'IMG_308.jpg', 'IMG_1229.jpg', 'IMG_58.jpg', 'IMG_1609.jpg', 'IMG_263.jpg', 'IMG_1901.jpg', 'IMG_1382.jpg', 'IMG_1858.jpg', 'IMG_505.jpg', 'IMG_709.jpg', 'IMG_752.jpg', 'IMG_385.jpg', 'IMG_37.jpg', 'IMG_1909.jpg', 'IMG_1219.jpg', 'IMG_499.jpg', 'IMG_907.jpg', 'IMG_2047.jpg', 'IMG_1589.jpg', 'IMG_1764.jpg', 'IMG_597.jpg', 'IMG_1240.jpg', 'IMG_1975.jpg', 'IMG_848.jpg', 'IMG_660.jpg', 'IMG_1516.jpg', 'IMG_1536.jpg', 'IMG_1962.jpg', 'IMG_1346.jpg', 'IMG_923.jpg', 'IMG_706.jpg', 'IMG_1502.jpg', 'IMG_826.jpg', 'IMG_1849.jpg', 'IMG_1552.jpg', 'IMG_1618.jpg', 'IMG_1532.jpg', 'IMG_717.jpg', 'IMG_1117.jpg', 'IMG_608.jpg', 'IMG_582.jpg', 'IMG_1137.jpg', 'IMG_1474.jpg', 'IMG_917.jpg', 'IMG_153.jpg', 'IMG_1435.jpg', 'IMG_922.jpg', 'IMG_1744.jpg', 'IMG_835.jpg', 'IMG_1664.jpg', 'IMG_1101.jpg', 'IMG_739.jpg', 'IMG_1031.jpg', 'IMG_1919.jpg', 'IMG_1158.jpg', 'IMG_1971.jpg', 'IMG_296.jpg', 'IMG_1808.jpg', 'IMG_1359.jpg', 'IMG_1961.jpg', 'IMG_1242.jpg', 'IMG_136.jpg', 'IMG_1480.jpg', 'IMG_1172.jpg', 'IMG_1318.jpg', 'IMG_959.jpg', 'IMG_1878.jpg', 'IMG_1604.jpg', 'IMG_24.jpg', 'IMG_712.jpg', 'IMG_404.jpg', 'IMG_183.jpg', 'IMG_144.jpg', 'IMG_1452.jpg', 'IMG_371.jpg', 'IMG_1084.jpg', 'IMG_74.jpg', 'IMG_30.jpg', 'IMG_1050.jpg', 'IMG_877.jpg', 'IMG_943.jpg', 'IMG_1001.jpg', 'IMG_338.jpg', 'IMG_251.jpg', 'IMG_1074.jpg', 'IMG_2042.jpg', 'IMG_1899.jpg', 'IMG_802.jpg', 'IMG_1546.jpg', 'IMG_1907.jpg', 'IMG_245.jpg', 'IMG_1232.jpg', 'IMG_667.jpg', 'IMG_1148.jpg', 'IMG_507.jpg', 'IMG_279.jpg', 'IMG_94.jpg', 'IMG_1918.jpg', 'IMG_845.jpg', 'IMG_1761.jpg', 'IMG_295.jpg', 'IMG_965.jpg', 'IMG_551.jpg', 'IMG_1197.jpg', 'IMG_2017.jpg', 'IMG_897.jpg', 'IMG_1883.jpg', 'IMG_705.jpg', 'IMG_1941.jpg', 'IMG_1119.jpg', 'IMG_638.jpg', 'IMG_1929.jpg', 'IMG_322.jpg', 'IMG_1551.jpg', 'IMG_278.jpg', 'IMG_220.jpg', 'IMG_602.jpg', 'IMG_414.jpg', 'IMG_1799.jpg', 'IMG_1633.jpg', 'IMG_1202.jpg', 'IMG_588.jpg', 'IMG_1251.jpg', 'IMG_1575.jpg', 'IMG_217.jpg', 'IMG_1037.jpg', 'IMG_1622.jpg', 'IMG_267.jpg', 'IMG_1007.jpg', 'IMG_1127.jpg', 'IMG_455.jpg', 'IMG_383.jpg', 'IMG_1826.jpg', 'IMG_647.jpg', 'IMG_106.jpg', 'IMG_876.jpg', 'IMG_299.jpg', 'IMG_1842.jpg', 'IMG_1073.jpg', 'IMG_1035.jpg', 'IMG_1363.jpg', 'IMG_6.jpg', 'IMG_1603.jpg', 'IMG_592.jpg', 'IMG_129.jpg', 'IMG_1798.jpg', 'IMG_487.jpg', 'IMG_727.jpg', 'IMG_1052.jpg', 'IMG_2018.jpg', 'IMG_1241.jpg', 'IMG_1593.jpg', 'IMG_616.jpg', 'IMG_1090.jpg', 'IMG_2053.jpg', 'IMG_1982.jpg', 'IMG_1196.jpg']\n"
          ]
        }
      ]
    },
    {
      "cell_type": "code",
      "source": [
        "import tensorflow as tf\n",
        "from tensorflow.keras.preprocessing.image import ImageDataGenerator\n",
        "\n",
        "# Define parameters\n",
        "img_height, img_width = 224, 224  # Size of the input images\n",
        "batch_size = 32\n",
        "\n",
        "# Create data generators\n",
        "train_datagen = ImageDataGenerator(rescale=1./255)\n",
        "test_datagen = ImageDataGenerator(rescale=1./255)\n",
        "\n",
        "# Load training data\n",
        "train_generator = train_datagen.flow_from_directory(\n",
        "    training_dir,\n",
        "    target_size=(img_height, img_width),\n",
        "    batch_size=batch_size,\n",
        "    class_mode='categorical'\n",
        ")\n",
        "\n",
        "# Load test data\n",
        "test_generator = test_datagen.flow_from_directory(\n",
        "    test_dir,\n",
        "    target_size=(img_height, img_width),\n",
        "    batch_size=batch_size,\n",
        "    class_mode='categorical',\n",
        "    shuffle=False  # Important for evaluation\n",
        ")\n"
      ],
      "metadata": {
        "colab": {
          "base_uri": "https://localhost:8080/"
        },
        "id": "4WuFui4mhjXB",
        "outputId": "f464f41e-c849-4fb7-ca0e-12e738113bc9"
      },
      "execution_count": 7,
      "outputs": [
        {
          "output_type": "stream",
          "name": "stdout",
          "text": [
            "Found 1554 images belonging to 20 classes.\n",
            "Found 0 images belonging to 0 classes.\n"
          ]
        }
      ]
    },
    {
      "cell_type": "code",
      "source": [
        "from tensorflow.keras.preprocessing import image\n",
        "import numpy as np\n",
        "\n",
        "# Function to load and preprocess test images\n",
        "def load_test_images(test_dir):\n",
        "    test_images = []\n",
        "    for img_name in os.listdir(test_dir):\n",
        "        img_path = os.path.join(test_dir, img_name)\n",
        "        if os.path.isfile(img_path):\n",
        "            img = image.load_img(img_path, target_size=(img_height, img_width))\n",
        "            img_array = image.img_to_array(img)\n",
        "            img_array = np.expand_dims(img_array, axis=0)  # Add batch dimension\n",
        "            test_images.append(img_array)\n",
        "    return np.vstack(test_images)\n",
        "\n",
        "# Load test images\n",
        "test_images_array = load_test_images(test_dir)\n"
      ],
      "metadata": {
        "id": "ofnKXj0Ghykq"
      },
      "execution_count": 6,
      "outputs": []
    },
    {
      "cell_type": "code",
      "source": [
        "from tensorflow.keras.preprocessing import image\n",
        "import numpy as np\n",
        "\n",
        "# Function to load and preprocess test images\n",
        "def load_test_images(test_dir):\n",
        "    test_images = []\n",
        "    for img_name in os.listdir(test_dir):\n",
        "        img_path = os.path.join(test_dir, img_name)\n",
        "        if os.path.isfile(img_path):\n",
        "            img = image.load_img(img_path, target_size=(img_height, img_width))\n",
        "            img_array = image.img_to_array(img)\n",
        "            img_array = np.expand_dims(img_array, axis=0)  # Add batch dimension\n",
        "            test_images.append(img_array)\n",
        "    return np.vstack(test_images)\n",
        "\n",
        "# Load test images\n",
        "test_images_array = load_test_images(test_dir)\n",
        "\n",
        "# Check the shape of the loaded test images\n",
        "print(\"Loaded test images shape:\", test_images_array.shape)\n"
      ],
      "metadata": {
        "colab": {
          "base_uri": "https://localhost:8080/"
        },
        "id": "ggvaddgrh-Ex",
        "outputId": "21ee3768-3d46-481e-894c-1b05e268e99f"
      },
      "execution_count": 8,
      "outputs": [
        {
          "output_type": "stream",
          "name": "stdout",
          "text": [
            "Loaded test images shape: (500, 224, 224, 3)\n"
          ]
        }
      ]
    },
    {
      "cell_type": "code",
      "source": [
        "from tensorflow.keras.applications import ResNet152V2\n",
        "from tensorflow.keras import layers, models\n",
        "\n",
        "# Load the ResNet152V2 model with pre-trained weights\n",
        "base_model = ResNet152V2(weights='imagenet', include_top=False, input_shape=(img_height, img_width, 3))\n",
        "\n",
        "# Freeze the base model\n",
        "base_model.trainable = False\n",
        "\n",
        "# Create the input layer\n",
        "inputs = layers.Input(shape=(img_height, img_width, 3))\n",
        "\n",
        "# Pass the inputs through the base model\n",
        "x = base_model(inputs, training=False)\n",
        "x = layers.GlobalAveragePooling2D()(x)\n",
        "outputs = layers.Dense(20, activation='softmax')(x)  # 20 classes\n",
        "\n",
        "# Create the model\n",
        "model = models.Model(inputs, outputs)\n",
        "\n",
        "# Compile the model\n",
        "model.compile(optimizer='adam', loss='categorical_crossentropy', metrics=['accuracy'])\n",
        "\n",
        "# Display the model summary\n",
        "model.summary()\n"
      ],
      "metadata": {
        "colab": {
          "base_uri": "https://localhost:8080/",
          "height": 273
        },
        "id": "o5whARmJiX-B",
        "outputId": "e6f7e4bf-4797-46cc-b38d-a3cf8f29d82f"
      },
      "execution_count": 11,
      "outputs": [
        {
          "output_type": "display_data",
          "data": {
            "text/plain": [
              "\u001b[1mModel: \"functional\"\u001b[0m\n"
            ],
            "text/html": [
              "<pre style=\"white-space:pre;overflow-x:auto;line-height:normal;font-family:Menlo,'DejaVu Sans Mono',consolas,'Courier New',monospace\"><span style=\"font-weight: bold\">Model: \"functional\"</span>\n",
              "</pre>\n"
            ]
          },
          "metadata": {}
        },
        {
          "output_type": "display_data",
          "data": {
            "text/plain": [
              "┏━━━━━━━━━━━━━━━━━━━━━━━━━━━━━━━━━━━━━━┳━━━━━━━━━━━━━━━━━━━━━━━━━━━━━┳━━━━━━━━━━━━━━━━━┓\n",
              "┃\u001b[1m \u001b[0m\u001b[1mLayer (type)                        \u001b[0m\u001b[1m \u001b[0m┃\u001b[1m \u001b[0m\u001b[1mOutput Shape               \u001b[0m\u001b[1m \u001b[0m┃\u001b[1m \u001b[0m\u001b[1m        Param #\u001b[0m\u001b[1m \u001b[0m┃\n",
              "┡━━━━━━━━━━━━━━━━━━━━━━━━━━━━━━━━━━━━━━╇━━━━━━━━━━━━━━━━━━━━━━━━━━━━━╇━━━━━━━━━━━━━━━━━┩\n",
              "│ input_layer_2 (\u001b[38;5;33mInputLayer\u001b[0m)           │ (\u001b[38;5;45mNone\u001b[0m, \u001b[38;5;34m224\u001b[0m, \u001b[38;5;34m224\u001b[0m, \u001b[38;5;34m3\u001b[0m)         │               \u001b[38;5;34m0\u001b[0m │\n",
              "├──────────────────────────────────────┼─────────────────────────────┼─────────────────┤\n",
              "│ resnet152v2 (\u001b[38;5;33mFunctional\u001b[0m)             │ (\u001b[38;5;45mNone\u001b[0m, \u001b[38;5;34m7\u001b[0m, \u001b[38;5;34m7\u001b[0m, \u001b[38;5;34m2048\u001b[0m)          │      \u001b[38;5;34m58,331,648\u001b[0m │\n",
              "├──────────────────────────────────────┼─────────────────────────────┼─────────────────┤\n",
              "│ global_average_pooling2d_2           │ (\u001b[38;5;45mNone\u001b[0m, \u001b[38;5;34m2048\u001b[0m)                │               \u001b[38;5;34m0\u001b[0m │\n",
              "│ (\u001b[38;5;33mGlobalAveragePooling2D\u001b[0m)             │                             │                 │\n",
              "├──────────────────────────────────────┼─────────────────────────────┼─────────────────┤\n",
              "│ dense_2 (\u001b[38;5;33mDense\u001b[0m)                      │ (\u001b[38;5;45mNone\u001b[0m, \u001b[38;5;34m20\u001b[0m)                  │          \u001b[38;5;34m40,980\u001b[0m │\n",
              "└──────────────────────────────────────┴─────────────────────────────┴─────────────────┘\n"
            ],
            "text/html": [
              "<pre style=\"white-space:pre;overflow-x:auto;line-height:normal;font-family:Menlo,'DejaVu Sans Mono',consolas,'Courier New',monospace\">┏━━━━━━━━━━━━━━━━━━━━━━━━━━━━━━━━━━━━━━┳━━━━━━━━━━━━━━━━━━━━━━━━━━━━━┳━━━━━━━━━━━━━━━━━┓\n",
              "┃<span style=\"font-weight: bold\"> Layer (type)                         </span>┃<span style=\"font-weight: bold\"> Output Shape                </span>┃<span style=\"font-weight: bold\">         Param # </span>┃\n",
              "┡━━━━━━━━━━━━━━━━━━━━━━━━━━━━━━━━━━━━━━╇━━━━━━━━━━━━━━━━━━━━━━━━━━━━━╇━━━━━━━━━━━━━━━━━┩\n",
              "│ input_layer_2 (<span style=\"color: #0087ff; text-decoration-color: #0087ff\">InputLayer</span>)           │ (<span style=\"color: #00d7ff; text-decoration-color: #00d7ff\">None</span>, <span style=\"color: #00af00; text-decoration-color: #00af00\">224</span>, <span style=\"color: #00af00; text-decoration-color: #00af00\">224</span>, <span style=\"color: #00af00; text-decoration-color: #00af00\">3</span>)         │               <span style=\"color: #00af00; text-decoration-color: #00af00\">0</span> │\n",
              "├──────────────────────────────────────┼─────────────────────────────┼─────────────────┤\n",
              "│ resnet152v2 (<span style=\"color: #0087ff; text-decoration-color: #0087ff\">Functional</span>)             │ (<span style=\"color: #00d7ff; text-decoration-color: #00d7ff\">None</span>, <span style=\"color: #00af00; text-decoration-color: #00af00\">7</span>, <span style=\"color: #00af00; text-decoration-color: #00af00\">7</span>, <span style=\"color: #00af00; text-decoration-color: #00af00\">2048</span>)          │      <span style=\"color: #00af00; text-decoration-color: #00af00\">58,331,648</span> │\n",
              "├──────────────────────────────────────┼─────────────────────────────┼─────────────────┤\n",
              "│ global_average_pooling2d_2           │ (<span style=\"color: #00d7ff; text-decoration-color: #00d7ff\">None</span>, <span style=\"color: #00af00; text-decoration-color: #00af00\">2048</span>)                │               <span style=\"color: #00af00; text-decoration-color: #00af00\">0</span> │\n",
              "│ (<span style=\"color: #0087ff; text-decoration-color: #0087ff\">GlobalAveragePooling2D</span>)             │                             │                 │\n",
              "├──────────────────────────────────────┼─────────────────────────────┼─────────────────┤\n",
              "│ dense_2 (<span style=\"color: #0087ff; text-decoration-color: #0087ff\">Dense</span>)                      │ (<span style=\"color: #00d7ff; text-decoration-color: #00d7ff\">None</span>, <span style=\"color: #00af00; text-decoration-color: #00af00\">20</span>)                  │          <span style=\"color: #00af00; text-decoration-color: #00af00\">40,980</span> │\n",
              "└──────────────────────────────────────┴─────────────────────────────┴─────────────────┘\n",
              "</pre>\n"
            ]
          },
          "metadata": {}
        },
        {
          "output_type": "display_data",
          "data": {
            "text/plain": [
              "\u001b[1m Total params: \u001b[0m\u001b[38;5;34m58,372,628\u001b[0m (222.67 MB)\n"
            ],
            "text/html": [
              "<pre style=\"white-space:pre;overflow-x:auto;line-height:normal;font-family:Menlo,'DejaVu Sans Mono',consolas,'Courier New',monospace\"><span style=\"font-weight: bold\"> Total params: </span><span style=\"color: #00af00; text-decoration-color: #00af00\">58,372,628</span> (222.67 MB)\n",
              "</pre>\n"
            ]
          },
          "metadata": {}
        },
        {
          "output_type": "display_data",
          "data": {
            "text/plain": [
              "\u001b[1m Trainable params: \u001b[0m\u001b[38;5;34m40,980\u001b[0m (160.08 KB)\n"
            ],
            "text/html": [
              "<pre style=\"white-space:pre;overflow-x:auto;line-height:normal;font-family:Menlo,'DejaVu Sans Mono',consolas,'Courier New',monospace\"><span style=\"font-weight: bold\"> Trainable params: </span><span style=\"color: #00af00; text-decoration-color: #00af00\">40,980</span> (160.08 KB)\n",
              "</pre>\n"
            ]
          },
          "metadata": {}
        },
        {
          "output_type": "display_data",
          "data": {
            "text/plain": [
              "\u001b[1m Non-trainable params: \u001b[0m\u001b[38;5;34m58,331,648\u001b[0m (222.52 MB)\n"
            ],
            "text/html": [
              "<pre style=\"white-space:pre;overflow-x:auto;line-height:normal;font-family:Menlo,'DejaVu Sans Mono',consolas,'Courier New',monospace\"><span style=\"font-weight: bold\"> Non-trainable params: </span><span style=\"color: #00af00; text-decoration-color: #00af00\">58,331,648</span> (222.52 MB)\n",
              "</pre>\n"
            ]
          },
          "metadata": {}
        }
      ]
    },
    {
      "cell_type": "code",
      "source": [
        "# Define the number of epochs\n",
        "epochs = 10\n",
        "\n",
        "# Train the model\n",
        "history = model.fit(\n",
        "    train_generator,\n",
        "    steps_per_epoch=train_generator.samples // batch_size,\n",
        "    validation_data=test_images_array,\n",
        "    validation_steps=len(test_images_array) // batch_size,\n",
        "    epochs=epochs\n",
        ")\n"
      ],
      "metadata": {
        "colab": {
          "base_uri": "https://localhost:8080/",
          "height": 464
        },
        "collapsed": true,
        "id": "6bnZb-cmiiJa",
        "outputId": "d8be458a-25e1-4e76-fc8f-6348040e0242"
      },
      "execution_count": 12,
      "outputs": [
        {
          "output_type": "stream",
          "name": "stdout",
          "text": [
            "Epoch 1/10\n"
          ]
        },
        {
          "output_type": "stream",
          "name": "stderr",
          "text": [
            "/usr/local/lib/python3.10/dist-packages/keras/src/trainers/data_adapters/py_dataset_adapter.py:121: UserWarning: Your `PyDataset` class should call `super().__init__(**kwargs)` in its constructor. `**kwargs` can include `workers`, `use_multiprocessing`, `max_queue_size`. Do not pass these arguments to `fit()`, as they will be ignored.\n",
            "  self._warn_if_super_not_called()\n"
          ]
        },
        {
          "output_type": "stream",
          "name": "stdout",
          "text": [
            "\u001b[1m48/48\u001b[0m \u001b[32m━━━━━━━━━━━━━━━━━━━━\u001b[0m\u001b[37m\u001b[0m \u001b[1m0s\u001b[0m 333ms/step - accuracy: 0.4831 - loss: 1.9109"
          ]
        },
        {
          "output_type": "error",
          "ename": "ValueError",
          "evalue": "None values not supported.",
          "traceback": [
            "\u001b[0;31m---------------------------------------------------------------------------\u001b[0m",
            "\u001b[0;31mValueError\u001b[0m                                Traceback (most recent call last)",
            "\u001b[0;32m<ipython-input-12-10ad837ded8f>\u001b[0m in \u001b[0;36m<cell line: 5>\u001b[0;34m()\u001b[0m\n\u001b[1;32m      3\u001b[0m \u001b[0;34m\u001b[0m\u001b[0m\n\u001b[1;32m      4\u001b[0m \u001b[0;31m# Train the model\u001b[0m\u001b[0;34m\u001b[0m\u001b[0;34m\u001b[0m\u001b[0m\n\u001b[0;32m----> 5\u001b[0;31m history = model.fit(\n\u001b[0m\u001b[1;32m      6\u001b[0m     \u001b[0mtrain_generator\u001b[0m\u001b[0;34m,\u001b[0m\u001b[0;34m\u001b[0m\u001b[0;34m\u001b[0m\u001b[0m\n\u001b[1;32m      7\u001b[0m     \u001b[0msteps_per_epoch\u001b[0m\u001b[0;34m=\u001b[0m\u001b[0mtrain_generator\u001b[0m\u001b[0;34m.\u001b[0m\u001b[0msamples\u001b[0m \u001b[0;34m//\u001b[0m \u001b[0mbatch_size\u001b[0m\u001b[0;34m,\u001b[0m\u001b[0;34m\u001b[0m\u001b[0;34m\u001b[0m\u001b[0m\n",
            "\u001b[0;32m/usr/local/lib/python3.10/dist-packages/keras/src/utils/traceback_utils.py\u001b[0m in \u001b[0;36merror_handler\u001b[0;34m(*args, **kwargs)\u001b[0m\n\u001b[1;32m    120\u001b[0m             \u001b[0;31m# To get the full stack trace, call:\u001b[0m\u001b[0;34m\u001b[0m\u001b[0;34m\u001b[0m\u001b[0m\n\u001b[1;32m    121\u001b[0m             \u001b[0;31m# `keras.config.disable_traceback_filtering()`\u001b[0m\u001b[0;34m\u001b[0m\u001b[0;34m\u001b[0m\u001b[0m\n\u001b[0;32m--> 122\u001b[0;31m             \u001b[0;32mraise\u001b[0m \u001b[0me\u001b[0m\u001b[0;34m.\u001b[0m\u001b[0mwith_traceback\u001b[0m\u001b[0;34m(\u001b[0m\u001b[0mfiltered_tb\u001b[0m\u001b[0;34m)\u001b[0m \u001b[0;32mfrom\u001b[0m \u001b[0;32mNone\u001b[0m\u001b[0;34m\u001b[0m\u001b[0;34m\u001b[0m\u001b[0m\n\u001b[0m\u001b[1;32m    123\u001b[0m         \u001b[0;32mfinally\u001b[0m\u001b[0;34m:\u001b[0m\u001b[0;34m\u001b[0m\u001b[0;34m\u001b[0m\u001b[0m\n\u001b[1;32m    124\u001b[0m             \u001b[0;32mdel\u001b[0m \u001b[0mfiltered_tb\u001b[0m\u001b[0;34m\u001b[0m\u001b[0;34m\u001b[0m\u001b[0m\n",
            "\u001b[0;32m/usr/local/lib/python3.10/dist-packages/optree/ops.py\u001b[0m in \u001b[0;36mtree_map\u001b[0;34m(func, tree, is_leaf, none_is_leaf, namespace, *rests)\u001b[0m\n\u001b[1;32m    745\u001b[0m     \u001b[0mleaves\u001b[0m\u001b[0;34m,\u001b[0m \u001b[0mtreespec\u001b[0m \u001b[0;34m=\u001b[0m \u001b[0m_C\u001b[0m\u001b[0;34m.\u001b[0m\u001b[0mflatten\u001b[0m\u001b[0;34m(\u001b[0m\u001b[0mtree\u001b[0m\u001b[0;34m,\u001b[0m \u001b[0mis_leaf\u001b[0m\u001b[0;34m,\u001b[0m \u001b[0mnone_is_leaf\u001b[0m\u001b[0;34m,\u001b[0m \u001b[0mnamespace\u001b[0m\u001b[0;34m)\u001b[0m\u001b[0;34m\u001b[0m\u001b[0;34m\u001b[0m\u001b[0m\n\u001b[1;32m    746\u001b[0m     \u001b[0mflat_args\u001b[0m \u001b[0;34m=\u001b[0m \u001b[0;34m[\u001b[0m\u001b[0mleaves\u001b[0m\u001b[0;34m]\u001b[0m \u001b[0;34m+\u001b[0m \u001b[0;34m[\u001b[0m\u001b[0mtreespec\u001b[0m\u001b[0;34m.\u001b[0m\u001b[0mflatten_up_to\u001b[0m\u001b[0;34m(\u001b[0m\u001b[0mr\u001b[0m\u001b[0;34m)\u001b[0m \u001b[0;32mfor\u001b[0m \u001b[0mr\u001b[0m \u001b[0;32min\u001b[0m \u001b[0mrests\u001b[0m\u001b[0;34m]\u001b[0m\u001b[0;34m\u001b[0m\u001b[0;34m\u001b[0m\u001b[0m\n\u001b[0;32m--> 747\u001b[0;31m     \u001b[0;32mreturn\u001b[0m \u001b[0mtreespec\u001b[0m\u001b[0;34m.\u001b[0m\u001b[0munflatten\u001b[0m\u001b[0;34m(\u001b[0m\u001b[0mmap\u001b[0m\u001b[0;34m(\u001b[0m\u001b[0mfunc\u001b[0m\u001b[0;34m,\u001b[0m \u001b[0;34m*\u001b[0m\u001b[0mflat_args\u001b[0m\u001b[0;34m)\u001b[0m\u001b[0;34m)\u001b[0m\u001b[0;34m\u001b[0m\u001b[0;34m\u001b[0m\u001b[0m\n\u001b[0m\u001b[1;32m    748\u001b[0m \u001b[0;34m\u001b[0m\u001b[0m\n\u001b[1;32m    749\u001b[0m \u001b[0;34m\u001b[0m\u001b[0m\n",
            "\u001b[0;31mValueError\u001b[0m: None values not supported."
          ]
        }
      ]
    },
    {
      "cell_type": "code",
      "source": [
        "# Train the model without validation data for now\n",
        "history = model.fit(\n",
        "    train_generator,\n",
        "    steps_per_epoch=train_generator.samples // batch_size,\n",
        "    epochs=epochs\n",
        ")\n"
      ],
      "metadata": {
        "colab": {
          "base_uri": "https://localhost:8080/"
        },
        "id": "xuLndIPoi5ja",
        "outputId": "9b6795d8-a4df-48e8-c4c6-9e773a74be1d"
      },
      "execution_count": 13,
      "outputs": [
        {
          "output_type": "stream",
          "name": "stdout",
          "text": [
            "Epoch 1/10\n",
            "\u001b[1m48/48\u001b[0m \u001b[32m━━━━━━━━━━━━━━━━━━━━\u001b[0m\u001b[37m\u001b[0m \u001b[1m9s\u001b[0m 176ms/step - accuracy: 0.9790 - loss: 0.1431\n",
            "Epoch 2/10\n",
            "\u001b[1m48/48\u001b[0m \u001b[32m━━━━━━━━━━━━━━━━━━━━\u001b[0m\u001b[37m\u001b[0m \u001b[1m0s\u001b[0m 1ms/step - accuracy: 0.9688 - loss: 0.1091  \n",
            "Epoch 3/10\n"
          ]
        },
        {
          "output_type": "stream",
          "name": "stderr",
          "text": [
            "/usr/lib/python3.10/contextlib.py:153: UserWarning: Your input ran out of data; interrupting training. Make sure that your dataset or generator can generate at least `steps_per_epoch * epochs` batches. You may need to use the `.repeat()` function when building your dataset.\n",
            "  self.gen.throw(typ, value, traceback)\n"
          ]
        },
        {
          "output_type": "stream",
          "name": "stdout",
          "text": [
            "\u001b[1m48/48\u001b[0m \u001b[32m━━━━━━━━━━━━━━━━━━━━\u001b[0m\u001b[37m\u001b[0m \u001b[1m10s\u001b[0m 178ms/step - accuracy: 0.9940 - loss: 0.0561\n",
            "Epoch 4/10\n",
            "\u001b[1m48/48\u001b[0m \u001b[32m━━━━━━━━━━━━━━━━━━━━\u001b[0m\u001b[37m\u001b[0m \u001b[1m0s\u001b[0m 369us/step - accuracy: 1.0000 - loss: 0.1083\n",
            "Epoch 5/10\n",
            "\u001b[1m48/48\u001b[0m \u001b[32m━━━━━━━━━━━━━━━━━━━━\u001b[0m\u001b[37m\u001b[0m \u001b[1m9s\u001b[0m 171ms/step - accuracy: 0.9981 - loss: 0.0408\n",
            "Epoch 6/10\n",
            "\u001b[1m48/48\u001b[0m \u001b[32m━━━━━━━━━━━━━━━━━━━━\u001b[0m\u001b[37m\u001b[0m \u001b[1m0s\u001b[0m 552us/step - accuracy: 1.0000 - loss: 0.0406\n",
            "Epoch 7/10\n",
            "\u001b[1m48/48\u001b[0m \u001b[32m━━━━━━━━━━━━━━━━━━━━\u001b[0m\u001b[37m\u001b[0m \u001b[1m10s\u001b[0m 172ms/step - accuracy: 1.0000 - loss: 0.0265\n",
            "Epoch 8/10\n",
            "\u001b[1m48/48\u001b[0m \u001b[32m━━━━━━━━━━━━━━━━━━━━\u001b[0m\u001b[37m\u001b[0m \u001b[1m0s\u001b[0m 373us/step - accuracy: 1.0000 - loss: 0.0090\n",
            "Epoch 9/10\n",
            "\u001b[1m48/48\u001b[0m \u001b[32m━━━━━━━━━━━━━━━━━━━━\u001b[0m\u001b[37m\u001b[0m \u001b[1m9s\u001b[0m 180ms/step - accuracy: 1.0000 - loss: 0.0201\n",
            "Epoch 10/10\n",
            "\u001b[1m48/48\u001b[0m \u001b[32m━━━━━━━━━━━━━━━━━━━━\u001b[0m\u001b[37m\u001b[0m \u001b[1m0s\u001b[0m 334us/step - accuracy: 1.0000 - loss: 0.0077\n"
          ]
        }
      ]
    },
    {
      "cell_type": "code",
      "source": [
        "# Evaluate the model on test images\n",
        "test_loss, test_accuracy = model.evaluate(test_images_array, test_labels_array)\n",
        "\n",
        "print(f'Test Accuracy: {test_accuracy:.4f}')\n",
        "print(f'Test Loss: {test_loss:.4f}')\n"
      ],
      "metadata": {
        "colab": {
          "base_uri": "https://localhost:8080/",
          "height": 219
        },
        "id": "iTy64IP4jXe7",
        "outputId": "6c0c7ead-e2e5-486f-eb08-9cb330525709"
      },
      "execution_count": 14,
      "outputs": [
        {
          "output_type": "error",
          "ename": "NameError",
          "evalue": "name 'test_labels_array' is not defined",
          "traceback": [
            "\u001b[0;31m---------------------------------------------------------------------------\u001b[0m",
            "\u001b[0;31mNameError\u001b[0m                                 Traceback (most recent call last)",
            "\u001b[0;32m<ipython-input-14-be21ec4e5d7c>\u001b[0m in \u001b[0;36m<cell line: 2>\u001b[0;34m()\u001b[0m\n\u001b[1;32m      1\u001b[0m \u001b[0;31m# Evaluate the model on test images\u001b[0m\u001b[0;34m\u001b[0m\u001b[0;34m\u001b[0m\u001b[0m\n\u001b[0;32m----> 2\u001b[0;31m \u001b[0mtest_loss\u001b[0m\u001b[0;34m,\u001b[0m \u001b[0mtest_accuracy\u001b[0m \u001b[0;34m=\u001b[0m \u001b[0mmodel\u001b[0m\u001b[0;34m.\u001b[0m\u001b[0mevaluate\u001b[0m\u001b[0;34m(\u001b[0m\u001b[0mtest_images_array\u001b[0m\u001b[0;34m,\u001b[0m \u001b[0mtest_labels_array\u001b[0m\u001b[0;34m)\u001b[0m\u001b[0;34m\u001b[0m\u001b[0;34m\u001b[0m\u001b[0m\n\u001b[0m\u001b[1;32m      3\u001b[0m \u001b[0;34m\u001b[0m\u001b[0m\n\u001b[1;32m      4\u001b[0m \u001b[0mprint\u001b[0m\u001b[0;34m(\u001b[0m\u001b[0;34mf'Test Accuracy: {test_accuracy:.4f}'\u001b[0m\u001b[0;34m)\u001b[0m\u001b[0;34m\u001b[0m\u001b[0;34m\u001b[0m\u001b[0m\n\u001b[1;32m      5\u001b[0m \u001b[0mprint\u001b[0m\u001b[0;34m(\u001b[0m\u001b[0;34mf'Test Loss: {test_loss:.4f}'\u001b[0m\u001b[0;34m)\u001b[0m\u001b[0;34m\u001b[0m\u001b[0;34m\u001b[0m\u001b[0m\n",
            "\u001b[0;31mNameError\u001b[0m: name 'test_labels_array' is not defined"
          ]
        }
      ]
    },
    {
      "cell_type": "code",
      "source": [
        "print(f'Number of test images: {len(test_images_array)}')\n",
        "print(f'Number of test labels: {len(test_labels)}')\n"
      ],
      "metadata": {
        "colab": {
          "base_uri": "https://localhost:8080/"
        },
        "id": "QIaZacZtkDaC",
        "outputId": "dfc2cb57-a0de-43e3-edca-d137d7e61ab6"
      },
      "execution_count": 17,
      "outputs": [
        {
          "output_type": "stream",
          "name": "stdout",
          "text": [
            "Number of test images: 500\n",
            "Number of test labels: 4\n"
          ]
        }
      ]
    },
    {
      "cell_type": "code",
      "source": [
        "# Assuming you know how many of each class should be in the test set\n",
        "class_distribution = [25, 25, 25, 25, 25, 25, 25, 25, 25, 25, 25, 25, 25, 25, 25, 25, 25, 25, 25, 25]  # Adjust according to your actual distribution\n",
        "class_count = len(class_distribution)\n",
        "\n",
        "test_labels = []\n",
        "for i, filename in enumerate(os.listdir(test_dir)):\n",
        "    class_index = i % class_count\n",
        "    test_labels.append(class_index)\n",
        "\n",
        "# Convert to one-hot encoding if necessary\n",
        "test_labels_array = np.eye(class_count)[test_labels]\n"
      ],
      "metadata": {
        "id": "IxhDPsLNkdFJ"
      },
      "execution_count": 19,
      "outputs": []
    },
    {
      "cell_type": "code",
      "source": [
        "# Evaluate the model on the test data\n",
        "test_loss, test_accuracy = model.evaluate(test_images_array, test_labels_array)\n",
        "\n",
        "print(f'Test Accuracy: {test_accuracy:.4f}')\n",
        "print(f'Test Loss: {test_loss:.4f}')\n"
      ],
      "metadata": {
        "colab": {
          "base_uri": "https://localhost:8080/"
        },
        "id": "n83GIz4ikxoz",
        "outputId": "d851f2c7-f8dd-45b1-9c56-fd8f2e4213f7"
      },
      "execution_count": 21,
      "outputs": [
        {
          "output_type": "stream",
          "name": "stdout",
          "text": [
            "\u001b[1m16/16\u001b[0m \u001b[32m━━━━━━━━━━━━━━━━━━━━\u001b[0m\u001b[37m\u001b[0m \u001b[1m17s\u001b[0m 596ms/step - accuracy: 0.0505 - loss: 1394.9641\n",
            "Test Accuracy: 0.0500\n",
            "Test Loss: 1389.8247\n"
          ]
        }
      ]
    },
    {
      "cell_type": "code",
      "source": [
        "# Make predictions\n",
        "predictions = model.predict(test_images_array)\n",
        "\n",
        "# Convert predictions to class labels\n",
        "predicted_classes = np.argmax(predictions, axis=1)\n",
        "\n",
        "# Print out some predictions alongside their true labels\n",
        "for i in range(5):  # Change the range to see more or fewer examples\n",
        "    print(f'Image {i+1}: True label = {np.argmax(test_labels_array[i])}, Predicted label = {predicted_classes[i]}')\n"
      ],
      "metadata": {
        "colab": {
          "base_uri": "https://localhost:8080/"
        },
        "id": "xkBVVHIJk37r",
        "outputId": "21d50076-d3ea-48c3-f535-ae9acbe3ed06"
      },
      "execution_count": 22,
      "outputs": [
        {
          "output_type": "stream",
          "name": "stdout",
          "text": [
            "\u001b[1m16/16\u001b[0m \u001b[32m━━━━━━━━━━━━━━━━━━━━\u001b[0m\u001b[37m\u001b[0m \u001b[1m42s\u001b[0m 638ms/step\n",
            "Image 1: True label = 0, Predicted label = 9\n",
            "Image 2: True label = 1, Predicted label = 9\n",
            "Image 3: True label = 2, Predicted label = 9\n",
            "Image 4: True label = 3, Predicted label = 9\n",
            "Image 5: True label = 4, Predicted label = 9\n"
          ]
        }
      ]
    }
  ]
}