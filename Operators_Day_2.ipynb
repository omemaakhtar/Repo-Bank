{
  "nbformat": 4,
  "nbformat_minor": 0,
  "metadata": {
    "colab": {
      "provenance": [],
      "authorship_tag": "ABX9TyNW/Bxkp7TW2QI08MaT4x4G",
      "include_colab_link": true
    },
    "kernelspec": {
      "name": "python3",
      "display_name": "Python 3"
    },
    "language_info": {
      "name": "python"
    }
  },
  "cells": [
    {
      "cell_type": "markdown",
      "metadata": {
        "id": "view-in-github",
        "colab_type": "text"
      },
      "source": [
        "<a href=\"https://colab.research.google.com/github/omemaakhtar/Repo-Bank/blob/main/Operators_Day_2.ipynb\" target=\"_parent\"><img src=\"https://colab.research.google.com/assets/colab-badge.svg\" alt=\"Open In Colab\"/></a>"
      ]
    },
    {
      "cell_type": "code",
      "execution_count": 3,
      "metadata": {
        "colab": {
          "base_uri": "https://localhost:8080/"
        },
        "id": "UXbM89kFhZaQ",
        "outputId": "02cafd47-d7a5-4a90-90f3-b56e46ff94c0"
      },
      "outputs": [
        {
          "output_type": "stream",
          "name": "stdout",
          "text": [
            "15\n",
            "-5\n",
            "2.0\n",
            "2\n",
            "50\n",
            "9765625\n"
          ]
        }
      ],
      "source": [
        "a = 5\n",
        "b = 10\n",
        "print(a+b)\n",
        "print(a-b)\n",
        "print(b/a)\n",
        "print(b//a)\n",
        "print(a*b)\n",
        "print(a**b)"
      ]
    },
    {
      "cell_type": "code",
      "source": [
        "p = True\n",
        "q = False\n",
        "logical_and = p and q\n",
        "logical_or = p or q\n",
        "logical_not = not p\n",
        "print(p and q), (p or q), (not p)\n"
      ],
      "metadata": {
        "colab": {
          "base_uri": "https://localhost:8080/"
        },
        "id": "KVUyFQXphovJ",
        "outputId": "a2d95b0f-4da9-47fe-e084-bf31c0d6950f"
      },
      "execution_count": 5,
      "outputs": [
        {
          "output_type": "stream",
          "name": "stdout",
          "text": [
            "False\n"
          ]
        },
        {
          "output_type": "execute_result",
          "data": {
            "text/plain": [
              "(None, True, False)"
            ]
          },
          "metadata": {},
          "execution_count": 5
        }
      ]
    },
    {
      "cell_type": "code",
      "source": [
        "n = int(input(\"Enter your meal cost here\")),\n",
        "tip_per = n * 0.15\n",
        "tax = tip_per * 0.10\n",
        "print(n+ tip_per + tax)"
      ],
      "metadata": {
        "colab": {
          "base_uri": "https://localhost:8080/",
          "height": 254
        },
        "id": "77bm4RB5m7Oh",
        "outputId": "b2308109-9f0b-477e-8587-29f7dfa4d5ec"
      },
      "execution_count": 9,
      "outputs": [
        {
          "name": "stdout",
          "output_type": "stream",
          "text": [
            "Enter your meal cost here100\n"
          ]
        },
        {
          "output_type": "error",
          "ename": "TypeError",
          "evalue": "ignored",
          "traceback": [
            "\u001b[0;31m---------------------------------------------------------------------------\u001b[0m",
            "\u001b[0;31mTypeError\u001b[0m                                 Traceback (most recent call last)",
            "\u001b[0;32m<ipython-input-9-6da170272ca4>\u001b[0m in \u001b[0;36m<cell line: 2>\u001b[0;34m()\u001b[0m\n\u001b[1;32m      1\u001b[0m \u001b[0mn\u001b[0m \u001b[0;34m=\u001b[0m \u001b[0mint\u001b[0m\u001b[0;34m(\u001b[0m\u001b[0minput\u001b[0m\u001b[0;34m(\u001b[0m\u001b[0;34m\"Enter your meal cost here\"\u001b[0m\u001b[0;34m)\u001b[0m\u001b[0;34m)\u001b[0m\u001b[0;34m,\u001b[0m\u001b[0;34m\u001b[0m\u001b[0;34m\u001b[0m\u001b[0m\n\u001b[0;32m----> 2\u001b[0;31m \u001b[0mtip_per\u001b[0m \u001b[0;34m=\u001b[0m \u001b[0mn\u001b[0m\u001b[0;34m*\u001b[0m\u001b[0;36m15\u001b[0m\u001b[0;34m/\u001b[0m\u001b[0;36m100\u001b[0m\u001b[0;34m\u001b[0m\u001b[0;34m\u001b[0m\u001b[0m\n\u001b[0m\u001b[1;32m      3\u001b[0m \u001b[0mtax\u001b[0m \u001b[0;34m=\u001b[0m \u001b[0mtip_per\u001b[0m \u001b[0;34m*\u001b[0m \u001b[0;36m0.10\u001b[0m\u001b[0;34m\u001b[0m\u001b[0;34m\u001b[0m\u001b[0m\n\u001b[1;32m      4\u001b[0m \u001b[0mprint\u001b[0m\u001b[0;34m(\u001b[0m\u001b[0mn\u001b[0m\u001b[0;34m+\u001b[0m \u001b[0mtip_per\u001b[0m \u001b[0;34m+\u001b[0m \u001b[0mtax\u001b[0m\u001b[0;34m)\u001b[0m\u001b[0;34m\u001b[0m\u001b[0;34m\u001b[0m\u001b[0m\n",
            "\u001b[0;31mTypeError\u001b[0m: unsupported operand type(s) for /: 'tuple' and 'int'"
          ]
        }
      ]
    },
    {
      "cell_type": "code",
      "source": [
        "def solve(meal_cost, tip_percent, tax_percent):\n",
        "    # Calculate the tip and tax amounts\n",
        "    tip = meal_cost * (15/ 100)\n",
        "    tax = meal_cost * ( 8/ 100)\n",
        "\n",
        "    # Calculate the total cost\n",
        "    total_cost = meal_cost + tip + tax\n",
        "\n",
        "    # Round the total cost to the nearest integer\n",
        "    rounded_total_cost = round(total_cost)\n",
        "\n",
        "    # Print the result\n",
        "    print(rounded_total_cost)"
      ],
      "metadata": {
        "id": "5uSim6j_rUF3"
      },
      "execution_count": 11,
      "outputs": []
    },
    {
      "cell_type": "code",
      "source": [
        "n = int(input(\"Enter the meal cost here: \"))\n",
        "tip_per = n * 0.15\n",
        "tax = tip_per * 0.10\n",
        "total_cost = n + tip_per + tax\n",
        "print(\"Total cost of the meal: \", total_cost)\n"
      ],
      "metadata": {
        "colab": {
          "base_uri": "https://localhost:8080/"
        },
        "id": "bqqOJSQknfHI",
        "outputId": "9e91e314-6c74-4ffb-f842-13b96c33e243"
      },
      "execution_count": 10,
      "outputs": [
        {
          "output_type": "stream",
          "name": "stdout",
          "text": [
            "Enter the meal cost here: 100\n",
            "Total cost of the meal:  116.5\n"
          ]
        }
      ]
    },
    {
      "cell_type": "code",
      "source": [
        "import math\n",
        "import os\n",
        "import random\n",
        "import re\n",
        "import sys\n",
        "\n",
        "#\n",
        "# Complete the 'solve' function below.\n",
        "#\n",
        "# The function accepts following parameters:\n",
        "#  1. DOUBLE meal_cost\n",
        "#  2. INTEGER tip_percent\n",
        "#  3. INTEGER tax_percent\n",
        "#\n",
        "\n",
        "def solve(meal_cost, tip_percent, tax_percent):\n",
        "    tip=meal_cost*(tip_percent/100)\n",
        "    tax=meal_cost*(tax_percent/100)\n",
        "    total=meal_cost+tip+tax\n",
        "    cost=round(total)\n",
        "    print(cost)\n",
        "\n",
        "    # Write your code here\n",
        "\n",
        "if __name__ == '__main__':\n",
        "    meal_cost = float(input().strip())\n",
        "\n",
        "    tip_percent = int(input().strip())\n",
        "\n",
        "    tax_percent = int(input().strip())\n",
        "\n",
        "    solve(meal_cost, tip_percent, tax_percent)"
      ],
      "metadata": {
        "colab": {
          "base_uri": "https://localhost:8080/"
        },
        "id": "gfFXlpTizXAY",
        "outputId": "508759fa-d6cb-4661-b07c-d228053dc16b"
      },
      "execution_count": 12,
      "outputs": [
        {
          "output_type": "stream",
          "name": "stdout",
          "text": [
            "100\n",
            "20\n",
            "10\n",
            "130\n"
          ]
        }
      ]
    },
    {
      "cell_type": "code",
      "source": [
        "def solve(meal_cost, tip_percent, tax_percent):\n",
        "    total_cost = meal_cost + (meal_cost / 100 * tip_percent) + (meal_cost / 100 * tax_percent)\n",
        "    print(round(total_cost))\n",
        "    return"
      ],
      "metadata": {
        "id": "vtMuOrtPze3H"
      },
      "execution_count": 14,
      "outputs": []
    },
    {
      "cell_type": "code",
      "source": [
        "n = int(input())\n",
        "if n % 2 ==1 or (6<= n <= 20 and n % 2 == 0):\n",
        "    print('Weird')\n",
        "else:\n",
        "    print('Not Weird')"
      ],
      "metadata": {
        "colab": {
          "base_uri": "https://localhost:8080/"
        },
        "id": "S4s1BG0wcw6d",
        "outputId": "07b6c233-5b0b-4b1f-a759-92fd2bec9516"
      },
      "execution_count": 3,
      "outputs": [
        {
          "output_type": "stream",
          "name": "stdout",
          "text": [
            "8\n",
            "Weird\n"
          ]
        }
      ]
    }
  ]
}