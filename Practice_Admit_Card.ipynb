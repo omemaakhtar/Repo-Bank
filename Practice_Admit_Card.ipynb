{
  "nbformat": 4,
  "nbformat_minor": 0,
  "metadata": {
    "colab": {
      "provenance": []
    },
    "kernelspec": {
      "name": "python3",
      "display_name": "Python 3"
    },
    "language_info": {
      "name": "python"
    }
  },
  "cells": [
    {
      "cell_type": "markdown",
      "source": [
        "Admit Card"
      ],
      "metadata": {
        "id": "yEqvW4g7d08l"
      }
    },
    {
      "cell_type": "code",
      "source": [
        "roll_no = 200\n",
        "name = \"Omema Akhtar\"\n",
        "fname = \"Jawed Akhtar\"\n",
        "Contact = 923202220587\n",
        "card = \"NED University \\nStudent roll no:\" + str(roll_no)+\\\n",
        "\"\\nStudent Name:\" + name +\"\\nFather Name:\" + fname\\\n",
        "+ \"\\nPhone number: \"+ str(Contact)\n",
        "\n",
        "print(card)"
      ],
      "metadata": {
        "colab": {
          "base_uri": "https://localhost:8080/"
        },
        "id": "xltVBhVMd4lK",
        "outputId": "c7da4c08-37c7-40fd-d7be-4583c8a126da"
      },
      "execution_count": 32,
      "outputs": [
        {
          "output_type": "stream",
          "name": "stdout",
          "text": [
            "NED University \n",
            "Student roll no:200\n",
            "Student Name:Omema Akhtar\n",
            "Father Name:Jawed Akhtar\n",
            "Phone number: 923202220587\n"
          ]
        }
      ]
    },
    {
      "cell_type": "code",
      "source": [
        "card = \"\"\"NED University\n",
        "Student roll no:\\t\\t200\n",
        "Student Name:\\t\\t\\tOmema Akhtar\n",
        "Father Name:\\t\\t\\tJawed Akhtar\n",
        "Phone number:\\t\\t\\t923202220587\"\"\"\n",
        "print(card)"
      ],
      "metadata": {
        "colab": {
          "base_uri": "https://localhost:8080/"
        },
        "id": "72EdSwc-e-TM",
        "outputId": "f660224d-4b33-43d9-8769-1bc44667b481"
      },
      "execution_count": 39,
      "outputs": [
        {
          "output_type": "stream",
          "name": "stdout",
          "text": [
            "NED University \n",
            "Student roll no:\t\t200\n",
            "Student Name:\t\t\tOmema Akhtar\n",
            "Father Name:\t\t\tJawed Akhtar\n",
            "Phone number:\t\t\t923202220587\n"
          ]
        }
      ]
    },
    {
      "cell_type": "code",
      "source": [
        "roll_no = 200\n",
        "name = \"Omema Akhtar\"\n",
        "fname = \"Jawed Akhtar\"\n",
        "Contact = 923202220587\n",
        "card = \"\"\"NED University\n",
        "Student roll no:\\t\\t{}\n",
        "Student Name:\\t\\t\\t{}\n",
        "Father Name:\\t\\t\\tJawed Akhtar\n",
        "Phone number:\\t\\t\\t923202220587\"\"\".format(roll_no, name, fname, Contact)\n",
        "print(card)"
      ],
      "metadata": {
        "colab": {
          "base_uri": "https://localhost:8080/"
        },
        "id": "AHnm8CQtf7OA",
        "outputId": "1b5c3590-4506-4e7e-bf51-aca21819eb49"
      },
      "execution_count": 49,
      "outputs": [
        {
          "output_type": "stream",
          "name": "stdout",
          "text": [
            "NED University \n",
            "Student roll no:\t\t200\n",
            "Student Name:\t\t\tOmema Akhtar\n",
            "Father Name:\t\t\tJawed Akhtar\n",
            "Phone number:\t\t\t923202220587\n"
          ]
        }
      ]
    },
    {
      "cell_type": "code",
      "source": [
        "roll_no = 200\n",
        "name = \"Omema Akhtar\"\n",
        "fname = \"Jawed Akhtar\"\n",
        "Contact = 923202220587\n",
        "card = f\"\"\"NED University\n",
        "Student roll no:{roll_no}\n",
        "Student Name:{name}\n",
        "Father Name:{fname}\n",
        "Phone number:{Contact}\"\"\"\n",
        "print(card)"
      ],
      "metadata": {
        "colab": {
          "base_uri": "https://localhost:8080/"
        },
        "id": "_PRPpzgLmGnk",
        "outputId": "fd1ef812-c361-4498-b5b2-8fedf79f2a96"
      },
      "execution_count": 51,
      "outputs": [
        {
          "output_type": "stream",
          "name": "stdout",
          "text": [
            "NED University \n",
            "Student roll no:200\n",
            "Student Name:Omema Akhtar\n",
            "Father Name:Jawed Akhtar\n",
            "Phone number:923202220587\n"
          ]
        }
      ]
    },
    {
      "cell_type": "code",
      "source": [
        "roll_no = input(\"roll_no\")\n",
        "name = input(\"name\")\n",
        "fname = input(\"fname\")\n",
        "Contact = input(\"Contact\")\n",
        "print(card)\n"
      ],
      "metadata": {
        "colab": {
          "base_uri": "https://localhost:8080/"
        },
        "id": "bhrxFH5WsPpf",
        "outputId": "f6c0586d-38a4-4784-9367-3a4c2207c8a8"
      },
      "execution_count": 53,
      "outputs": [
        {
          "output_type": "stream",
          "name": "stdout",
          "text": [
            "roll_no123\n",
            "nameomema\n",
            "fnamejawed\n",
            "Contact1234\n",
            "NED University \n",
            "Student roll no:200\n",
            "Student Name:Omema Akhtar\n",
            "Father Name:Jawed Akhtar\n",
            "Phone number:923202220587\n"
          ]
        }
      ]
    }
  ]
}