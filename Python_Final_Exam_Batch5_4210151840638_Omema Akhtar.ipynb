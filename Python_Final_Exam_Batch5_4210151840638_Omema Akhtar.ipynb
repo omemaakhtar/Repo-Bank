{
  "cells": [
    {
      "cell_type": "markdown",
      "metadata": {
        "id": "view-in-github",
        "colab_type": "text"
      },
      "source": [
        "<a href=\"https://colab.research.google.com/github/omemaakhtar/Repo-Bank/blob/main/Python_Final_Exam_Batch5_4210151840638_Omema%20Akhtar.ipynb\" target=\"_parent\"><img src=\"https://colab.research.google.com/assets/colab-badge.svg\" alt=\"Open In Colab\"/></a>"
      ]
    },
    {
      "cell_type": "markdown",
      "metadata": {
        "id": "S6aX5GSQkdqk"
      },
      "source": [
        "# NED University of Engineering & Technology\n",
        "# NED Academy\n",
        "#  PGD Batch 5 Data Science Final Exam (Online & Hybrid Mode Students)"
      ]
    },
    {
      "cell_type": "markdown",
      "metadata": {
        "id": "n-FwP1uqkdqm"
      },
      "source": [
        "### Note: must Replace CNIC and Name\n",
        "\n",
        "Example:<br>\n",
        "    \n",
        "Midterm_42101-5184063-8_Omema Akhtar"
      ]
    },
    {
      "cell_type": "markdown",
      "metadata": {
        "id": "tKlgjyHskdqm"
      },
      "source": [
        "### Final Exame tips:\n",
        "* Paper timing: 3 Hours\n",
        "* Total Questions 20 you have to attempt all below tasks\n",
        "    * 5 questions are theoritical\n",
        "    * 15 are practical tasks\n",
        "* you can use any logic to achieve below tasks results\n",
        "* there is not any negative marking\n"
      ]
    },
    {
      "cell_type": "markdown",
      "metadata": {
        "id": "cjZv9K1ukdqm"
      },
      "source": [
        "## Task1:\n",
        "    Names: Store the names of a few of your friends in a list called `names`. Print each person’s name and index number each element in the list, one at a time.\n",
        "    \n",
        "```\n",
        "Expected output:\n",
        "\n",
        "['Qasim','Hamza','Asif']\n",
        "\n",
        "0 , Qasim\n",
        "1 , Hamza\n",
        "2 , Asif\n",
        "```\n",
        "\n",
        "#### hint: enu...te()"
      ]
    },
    {
      "cell_type": "code",
      "execution_count": 4,
      "metadata": {
        "id": "Z_Uyb_fOkdqm",
        "colab": {
          "base_uri": "https://localhost:8080/"
        },
        "outputId": "e152b14b-28ae-4843-e35e-a3280d3a4685"
      },
      "outputs": [
        {
          "output_type": "stream",
          "name": "stdout",
          "text": [
            "['Sadia', 'Farheen', 'Maria']\n",
            "0 , Sadia\n",
            "1 , Farheen\n",
            "2 , Maria\n"
          ]
        }
      ],
      "source": [
        "# Store your friends' names in a list\n",
        "names = [\"Sadia\", \"Farheen\", \"Maria\"]\n",
        "\n",
        "# Print the list\n",
        "print(names)\n",
        "\n",
        "# Use a for loop to iterate through the list and print names with their index\n",
        "for index, name in enumerate(names):\n",
        "    print(f\"{index} , {name}\")\n"
      ]
    },
    {
      "cell_type": "markdown",
      "metadata": {
        "id": "LT5Bxr3Ykdqn"
      },
      "source": [
        "## Task2:\n",
        "Store your 3 friends names in `names` list<br>\n",
        "Store three messages in `messages` list<br>\n",
        "then print each friend and message from friends and messages lists\n",
        "    \n",
        "```\n",
        "Expected output:\n",
        "\n",
        "['Qasim','Hamza','Asif']\n",
        "['Welcome Dear Teacher','Charter Accountant',\"Good job Admin\"]\n",
        "\n",
        "'Qasim, Welcome Dear Teacher'\n",
        "'Hamza, Charter Accountant'\n",
        "'Asif, Good job Admin'\n",
        "\n",
        "```\n",
        "\n",
        "#### hint: z..p()"
      ]
    },
    {
      "cell_type": "code",
      "source": [
        "# Store your 3 friends' names in the 'names' list\n",
        "names = [\"Sadia\", \"Farheen\", \"Maria\"]\n",
        "\n",
        "# Store three messages in the 'messages' list\n",
        "messages = [\"Welcome Dear Teacher\", \"Charter Accountant\", \"Good job Admin\"]\n",
        "\n",
        "# Print the 'names' and 'messages' lists as specified\n",
        "print(names)\n",
        "print(messages)\n",
        "\n",
        "# Use a for loop to iterate through the 'names' and 'messages' lists and print each friend and message\n",
        "for name, message in zip(names, messages):\n",
        "    print(f\"'{name}, {message}'\")\n"
      ],
      "metadata": {
        "colab": {
          "base_uri": "https://localhost:8080/"
        },
        "id": "-GoYR5aLvMXQ",
        "outputId": "15358de9-53d1-4e21-9675-3b2f346c3895"
      },
      "execution_count": 7,
      "outputs": [
        {
          "output_type": "stream",
          "name": "stdout",
          "text": [
            "['Sadia', 'Farheen', 'Maria']\n",
            "['Welcome Dear Teacher', 'Charter Accountant', 'Good job Admin']\n",
            "'Sadia, Welcome Dear Teacher'\n",
            "'Farheen, Charter Accountant'\n",
            "'Maria, Good job Admin'\n"
          ]
        }
      ]
    },
    {
      "cell_type": "markdown",
      "metadata": {
        "id": "qJpfb8ulkdqn"
      },
      "source": [
        "### Task3:\n",
        "Guest List: If you could invite anyone, living or deceased, to dinner, who would you invite? Make a list that includes at least three people you’d like to invite to dinner. Then use your list to print a message to each person, inviting them to dinner."
      ]
    },
    {
      "cell_type": "code",
      "source": [
        "# Create a list of people you'd like to invite to dinner\n",
        "guests = [\"Sadia\", \"Farheen\", \"Maria\"]\n",
        "\n",
        "# Print the list of guests\n",
        "print(\"List of Guests:\")\n",
        "for guest in guests:\n",
        "    print(f\"- {guest}\")\n",
        "\n",
        "# Use a for loop to print an invitation message for each person\n",
        "print(\"\\nInvitations Sent:\")\n",
        "for guest in guests:\n",
        "    print(f\"Dear {guest}, You are invited to a special dinner. Please join us!\")\n"
      ],
      "metadata": {
        "colab": {
          "base_uri": "https://localhost:8080/"
        },
        "id": "jDtu2tJ4xIdM",
        "outputId": "1025744d-ba73-4732-9a65-0dc62e87e7e4"
      },
      "execution_count": 11,
      "outputs": [
        {
          "output_type": "stream",
          "name": "stdout",
          "text": [
            "List of Guests:\n",
            "- Sadia\n",
            "- Farheen\n",
            "- Maria\n",
            "\n",
            "Invitations Sent:\n",
            "Dear Sadia, You are invited to a special dinner. Please join us!\n",
            "Dear Farheen, You are invited to a special dinner. Please join us!\n",
            "Dear Maria, You are invited to a special dinner. Please join us!\n"
          ]
        }
      ]
    },
    {
      "cell_type": "markdown",
      "metadata": {
        "id": "jCd22z68kdqo"
      },
      "source": [
        "### Task4:\n",
        "Changing Guest List: You just heard that one of your guests can’t make the dinner, so you need to send out a new set of invitations. You’ll have to think of someone else to invite.\n",
        "\n",
        "* Start with your program from Task 3. Add a print statement at the end of your program stating the name of the guest who can’t make it.\n",
        "\n",
        "* Modify your list, replacing the name of the guest who can’t make it with the name of the new person you are inviting.\n",
        "\n",
        "* Print a second set of invitation messages, one for each person who is still in your list."
      ]
    },
    {
      "cell_type": "code",
      "source": [
        "# Initial list of guests\n",
        "guests = [\"Sadia\", \"Farheen\", \"Maria\"]\n",
        "\n",
        "# Print the list of guests\n",
        "print(\"List of Guests:\")\n",
        "for guest in guests:\n",
        "    print(f\"- {guest}\")\n",
        "\n",
        "# Name of the guest who can't make it\n",
        "unavailable_guest = \"Farheen\"\n",
        "print(f\"\\nUnfortunately, {unavailable_guest} can't make it to the dinner.\\n\")\n",
        "\n",
        "# Replace the unavailable guest with a new guest\n",
        "new_guest = \"Ali\"\n",
        "guests[guests.index(unavailable_guest)] = new_guest\n",
        "\n",
        "# Print the updated list of guests\n",
        "print(\"Updated List of Guests:\")\n",
        "for guest in guests:\n",
        "    print(f\"- {guest}\")\n",
        "\n",
        "# Send out invitations to the remaining guests\n",
        "print(\"\\nInvitations Sent:\")\n",
        "for guest in guests:\n",
        "    print(f\"Dear {guest}, You are invited to a special dinner. Please join us!\")\n"
      ],
      "metadata": {
        "colab": {
          "base_uri": "https://localhost:8080/"
        },
        "id": "Ta32IFj1xfhM",
        "outputId": "7a2d2e87-73e1-4432-f836-2feba2d6bc2f"
      },
      "execution_count": 12,
      "outputs": [
        {
          "output_type": "stream",
          "name": "stdout",
          "text": [
            "List of Guests:\n",
            "- Sadia\n",
            "- Farheen\n",
            "- Maria\n",
            "\n",
            "Unfortunately, Farheen can't make it to the dinner.\n",
            "\n",
            "Updated List of Guests:\n",
            "- Sadia\n",
            "- Ali\n",
            "- Maria\n",
            "\n",
            "Invitations Sent:\n",
            "Dear Sadia, You are invited to a special dinner. Please join us!\n",
            "Dear Ali, You are invited to a special dinner. Please join us!\n",
            "Dear Maria, You are invited to a special dinner. Please join us!\n"
          ]
        }
      ]
    },
    {
      "cell_type": "markdown",
      "metadata": {
        "id": "yaqsH8skkdqo"
      },
      "source": [
        "### Task5:\n",
        "More Guests: You just found a bigger dinner table, so now more space is available. Think of three more guests to invite to dinner.\n",
        "* Start with your program from task4. Add a print statement to the end of your program informing people that you found a bigger dinner table.\n",
        "* Add one new guest to the beginning of your array(list).\n",
        "\n",
        "* Add one new guest to the middle of your array.\n",
        "* Use append() to add one new guest to the end of your list.\n",
        "* Print a new set of invitation messages, one for each person in your list."
      ]
    },
    {
      "cell_type": "code",
      "execution_count": 13,
      "metadata": {
        "id": "G4XTS-MGkdqo",
        "colab": {
          "base_uri": "https://localhost:8080/"
        },
        "outputId": "58538820-9b2a-4646-e108-7c11ff0a1b40"
      },
      "outputs": [
        {
          "output_type": "stream",
          "name": "stdout",
          "text": [
            "List of Guests:\n",
            "- Sadia\n",
            "- Farheen\n",
            "- Maria\n",
            "\n",
            "Unfortunately, Farheen can't make it to the dinner.\n",
            "\n",
            "Updated List of Guests:\n",
            "- Sadia\n",
            "- Ali\n",
            "- Maria\n",
            "\n",
            "Invitations Sent:\n",
            "Dear Sadia, You are invited to a special dinner. Please join us!\n",
            "Dear Ali, You are invited to a special dinner. Please join us!\n",
            "Dear Maria, You are invited to a special dinner. Please join us!\n",
            "\n",
            "Great news! We've found a bigger dinner table.\n",
            "\n",
            "Updated List of Guests:\n",
            "- John\n",
            "- Sadia\n",
            "- Emma\n",
            "- Ali\n",
            "- Maria\n",
            "- Michael\n",
            "\n",
            "New Invitations Sent:\n",
            "Dear John, You are invited to a special dinner with our expanded guest list. Please join us!\n",
            "Dear Sadia, You are invited to a special dinner with our expanded guest list. Please join us!\n",
            "Dear Emma, You are invited to a special dinner with our expanded guest list. Please join us!\n",
            "Dear Ali, You are invited to a special dinner with our expanded guest list. Please join us!\n",
            "Dear Maria, You are invited to a special dinner with our expanded guest list. Please join us!\n",
            "Dear Michael, You are invited to a special dinner with our expanded guest list. Please join us!\n"
          ]
        }
      ],
      "source": [
        "# Initial list of guests\n",
        "guests = [\"Sadia\", \"Farheen\", \"Maria\"]\n",
        "\n",
        "# Print the list of guests\n",
        "print(\"List of Guests:\")\n",
        "for guest in guests:\n",
        "    print(f\"- {guest}\")\n",
        "\n",
        "# Name of the guest who can't make it\n",
        "unavailable_guest = \"Farheen\"\n",
        "print(f\"\\nUnfortunately, {unavailable_guest} can't make it to the dinner.\\n\")\n",
        "\n",
        "# Replace the unavailable guest with a new guest\n",
        "new_guest = \"Ali\"\n",
        "guests[guests.index(unavailable_guest)] = new_guest\n",
        "\n",
        "# Print the updated list of guests\n",
        "print(\"Updated List of Guests:\")\n",
        "for guest in guests:\n",
        "    print(f\"- {guest}\")\n",
        "\n",
        "# Send out new invitation messages to the remaining guests\n",
        "print(\"\\nInvitations Sent:\")\n",
        "for guest in guests:\n",
        "    print(f\"Dear {guest}, You are invited to a special dinner. Please join us!\")\n",
        "\n",
        "# Inform about the bigger dinner table\n",
        "print(\"\\nGreat news! We've found a bigger dinner table.\\n\")\n",
        "\n",
        "# Add new guests\n",
        "new_guests = [\"John\", \"Emma\", \"Michael\"]\n",
        "guests.insert(0, new_guests[0])  # Add to the beginning\n",
        "guests.insert(len(guests) // 2, new_guests[1])  # Add to the middle\n",
        "guests.append(new_guests[2])  # Add to the end\n",
        "\n",
        "# Print the updated list of guests\n",
        "print(\"Updated List of Guests:\")\n",
        "for guest in guests:\n",
        "    print(f\"- {guest}\")\n",
        "\n",
        "# Send out new invitation messages to all guests\n",
        "print(\"\\nNew Invitations Sent:\")\n",
        "for guest in guests:\n",
        "    print(f\"Dear {guest}, You are invited to a special dinner with our expanded guest list. Please join us!\")\n"
      ]
    },
    {
      "cell_type": "markdown",
      "metadata": {
        "id": "9Qz28Az2kdqo"
      },
      "source": [
        "### Task6:\n",
        "Intentional Error: If you haven’t received an array index error in one of your programs yet, try to make one happen. Change an index in one of your programs to produce an index error. Make sure you correct the error before closing the program.    "
      ]
    },
    {
      "cell_type": "code",
      "execution_count": 14,
      "metadata": {
        "id": "g4kclHaBkdqo",
        "colab": {
          "base_uri": "https://localhost:8080/"
        },
        "outputId": "f0b6dc14-3c31-4c59-f235-7f7b16d37496"
      },
      "outputs": [
        {
          "output_type": "stream",
          "name": "stdout",
          "text": [
            "IndexError: list index out of range\n"
          ]
        }
      ],
      "source": [
        "my_list = [1, 2, 3, 4, 5]\n",
        "\n",
        "try:\n",
        "    # Attempt to access an index that is out of bounds\n",
        "    value = my_list[10]\n",
        "except IndexError as e:\n",
        "    print(f\"IndexError: {e}\")\n",
        "else:\n",
        "    print(f\"The value at index 10 is: {value}\")\n"
      ]
    },
    {
      "cell_type": "markdown",
      "metadata": {
        "id": "QiZ5xXYvkdqo"
      },
      "source": [
        "### Task7\n",
        "Conditional Tests: Write a series of conditional tests. Print a statement describing each test and your prediction for the results of each test. Your code should look something like this:\n",
        "\n",
        "```\n",
        "car = 'BMW'\n",
        "print(\"Is car == 'BMW'? I predict True.\")\n",
        "print(car == 'subaru')\n",
        "```\n",
        "\n",
        "* Look closely at your results, and make sure you understand why each line evaluates to True or False.\n",
        "\n",
        "* Create at least 10 tests. Have at least 5 tests evaluate to True and another 5 tests evaluate to False.\n",
        "\n",
        "\n",
        "    "
      ]
    },
    {
      "cell_type": "code",
      "execution_count": 15,
      "metadata": {
        "id": "btdrROrokdqp",
        "colab": {
          "base_uri": "https://localhost:8080/"
        },
        "outputId": "d57de8d3-8b16-4b58-8f75-70367dc01181"
      },
      "outputs": [
        {
          "output_type": "stream",
          "name": "stdout",
          "text": [
            "Is car == 'BMW'? I predict True.\n",
            "True\n",
            "\n",
            "Is color == 'blue'? I predict False.\n",
            "False\n",
            "\n",
            "Is age != 30? I predict True.\n",
            "True\n",
            "\n",
            "Is temperature != 70? I predict False.\n",
            "False\n",
            "\n",
            "Is score > 80? I predict True.\n",
            "True\n",
            "\n",
            "Is price > 20? I predict False.\n",
            "False\n",
            "\n",
            "Is height < 180? I predict True.\n",
            "True\n",
            "\n",
            "Is weight < 70? I predict False.\n",
            "False\n",
            "\n",
            "Is it sunny and warm? I predict True.\n",
            "True\n",
            "\n",
            "Is it raining and cold? I predict False.\n",
            "False\n"
          ]
        }
      ],
      "source": [
        "# Test 1: Equality test (True)\n",
        "car = 'BMW'\n",
        "print(\"Is car == 'BMW'? I predict True.\")\n",
        "print(car == 'BMW')\n",
        "\n",
        "# Test 2: Equality test (False)\n",
        "color = 'red'\n",
        "print(\"\\nIs color == 'blue'? I predict False.\")\n",
        "print(color == 'blue')\n",
        "\n",
        "# Test 3: Inequality test (True)\n",
        "age = 25\n",
        "print(\"\\nIs age != 30? I predict True.\")\n",
        "print(age != 30)\n",
        "\n",
        "# Test 4: Inequality test (False)\n",
        "temperature = 70\n",
        "print(\"\\nIs temperature != 70? I predict False.\")\n",
        "print(temperature != 70)\n",
        "\n",
        "# Test 5: Greater than test (True)\n",
        "score = 85\n",
        "print(\"\\nIs score > 80? I predict True.\")\n",
        "print(score > 80)\n",
        "\n",
        "# Test 6: Greater than test (False)\n",
        "price = 15.99\n",
        "print(\"\\nIs price > 20? I predict False.\")\n",
        "print(price > 20)\n",
        "\n",
        "# Test 7: Less than test (True)\n",
        "height = 160\n",
        "print(\"\\nIs height < 180? I predict True.\")\n",
        "print(height < 180)\n",
        "\n",
        "# Test 8: Less than test (False)\n",
        "weight = 75\n",
        "print(\"\\nIs weight < 70? I predict False.\")\n",
        "print(weight < 70)\n",
        "\n",
        "# Test 9: Logical AND (True)\n",
        "is_sunny = True\n",
        "is_warm = True\n",
        "print(\"\\nIs it sunny and warm? I predict True.\")\n",
        "print(is_sunny and is_warm)\n",
        "\n",
        "# Test 10: Logical AND (False)\n",
        "is_raining = True\n",
        "is_cold = False\n",
        "print(\"\\nIs it raining and cold? I predict False.\")\n",
        "print(is_raining and is_cold)\n"
      ]
    },
    {
      "cell_type": "markdown",
      "metadata": {
        "id": "F55eQzTskdqp"
      },
      "source": [
        "### Task8:\n",
        "More Conditional Tests: You don’t have to limit the number of tests you create to 10. If you want to try more comparisons, write more tests. Have at least one True and one False result for each of the following:\n",
        "\n",
        "* Tests for equality and inequality with strings\n",
        "\n",
        "* Tests using the lower case function\n",
        "\n",
        "* Numerical tests involving equality and inequality, greater than and less than, greater than or equal to, and less than or equal to\n",
        "\n",
        "* Tests using \"and\" and \"or\" operators\n",
        "\n",
        "* Test whether an item is in a list\n",
        "\n",
        "* Test whether an item is not in a list"
      ]
    },
    {
      "cell_type": "code",
      "execution_count": 16,
      "metadata": {
        "id": "ZuzFar-xkdqp",
        "colab": {
          "base_uri": "https://localhost:8080/"
        },
        "outputId": "3da74782-0a26-4b57-8553-438b29226c54"
      },
      "outputs": [
        {
          "output_type": "stream",
          "name": "stdout",
          "text": [
            "Is city == 'New York'? I predict True.\n",
            "True\n",
            "\n",
            "Is country != 'Mexico'? I predict True.\n",
            "True\n",
            "\n",
            "Is name.lower() == 'john'? I predict True.\n",
            "True\n",
            "\n",
            "Is age == 30? I predict True.\n",
            "True\n",
            "\n",
            "Is temperature > 90? I predict False.\n",
            "False\n",
            "\n",
            "Is price < 10? I predict False.\n",
            "False\n",
            "\n",
            "Is quantity >= 10? I predict True.\n",
            "True\n",
            "\n",
            "Is grade <= 70? I predict False.\n",
            "False\n",
            "\n",
            "Is it sunny and warm? I predict False.\n",
            "False\n",
            "\n",
            "Is it raining or cold? I predict True.\n",
            "True\n",
            "\n",
            "Is 'banana' in fruits? I predict True.\n",
            "True\n",
            "\n",
            "Is 'yellow' not in colors? I predict True.\n",
            "True\n"
          ]
        }
      ],
      "source": [
        "# Equality and Inequality with Strings\n",
        "city = \"New York\"\n",
        "print(\"Is city == 'New York'? I predict True.\")\n",
        "print(city == 'New York')\n",
        "\n",
        "country = \"Canada\"\n",
        "print(\"\\nIs country != 'Mexico'? I predict True.\")\n",
        "print(country != 'Mexico')\n",
        "\n",
        "# Lowercase Function\n",
        "name = \"John\"\n",
        "print(\"\\nIs name.lower() == 'john'? I predict True.\")\n",
        "print(name.lower() == 'john')\n",
        "\n",
        "# Numerical Tests\n",
        "age = 30\n",
        "print(\"\\nIs age == 30? I predict True.\")\n",
        "print(age == 30)\n",
        "\n",
        "temperature = 85\n",
        "print(\"\\nIs temperature > 90? I predict False.\")\n",
        "print(temperature > 90)\n",
        "\n",
        "price = 15.99\n",
        "print(\"\\nIs price < 10? I predict False.\")\n",
        "print(price < 10)\n",
        "\n",
        "quantity = 10\n",
        "print(\"\\nIs quantity >= 10? I predict True.\")\n",
        "print(quantity >= 10)\n",
        "\n",
        "grade = 75\n",
        "print(\"\\nIs grade <= 70? I predict False.\")\n",
        "print(grade <= 70)\n",
        "\n",
        "# Logical Operators\n",
        "is_sunny = True\n",
        "is_warm = False\n",
        "print(\"\\nIs it sunny and warm? I predict False.\")\n",
        "print(is_sunny and is_warm)\n",
        "\n",
        "is_raining = True\n",
        "is_cold = False\n",
        "print(\"\\nIs it raining or cold? I predict True.\")\n",
        "print(is_raining or is_cold)\n",
        "\n",
        "# Item in List\n",
        "fruits = ['apple', 'banana', 'cherry']\n",
        "print(\"\\nIs 'banana' in fruits? I predict True.\")\n",
        "print('banana' in fruits)\n",
        "\n",
        "# Item not in List\n",
        "colors = ['red', 'green', 'blue']\n",
        "print(\"\\nIs 'yellow' not in colors? I predict True.\")\n",
        "print('yellow' not in colors)\n"
      ]
    },
    {
      "cell_type": "markdown",
      "metadata": {
        "id": "-ERrZopbkdqp"
      },
      "source": [
        "### Task9:\n",
        "Hello Admin: Make a list of five or more usernames, including the name 'admin'. Imagine you are writing code that will print a greeting to each user after they log in to a website. Loop through the list, and print a greeting to each user:\n",
        "* If the username is 'admin', print a special greeting, such as Hello admin, would you like to see a status report?\n",
        "\n",
        "* Otherwise, print a generic greeting, such as Hello Eric, thank you for logging in again.    "
      ]
    },
    {
      "cell_type": "code",
      "execution_count": 17,
      "metadata": {
        "id": "z51Cc92qkdqp",
        "colab": {
          "base_uri": "https://localhost:8080/"
        },
        "outputId": "06e17b88-a4c0-413a-b183-8204b090488f"
      },
      "outputs": [
        {
          "output_type": "stream",
          "name": "stdout",
          "text": [
            "Hello admin, would you like to see a status report?\n",
            "Hello Eric, thank you for logging in again.\n",
            "Hello John, thank you for logging in again.\n",
            "Hello Alice, thank you for logging in again.\n",
            "Hello Bob, thank you for logging in again.\n"
          ]
        }
      ],
      "source": [
        "# List of usernames\n",
        "usernames = [\"admin\", \"Eric\", \"John\", \"Alice\", \"Bob\"]\n",
        "\n",
        "# Loop through the list and print greetings\n",
        "for username in usernames:\n",
        "    if username == \"admin\":\n",
        "        print(f\"Hello {username}, would you like to see a status report?\")\n",
        "    else:\n",
        "        print(f\"Hello {username}, thank you for logging in again.\")\n"
      ]
    },
    {
      "cell_type": "markdown",
      "metadata": {
        "id": "tCNLZNHikdqp"
      },
      "source": [
        "### Task10:\n",
        "Checking Usernames: Do the following to create a program that simulates how websites ensure that everyone has a unique username.\n",
        "* Make a list of five or more usernames called current_users.\n",
        "\n",
        "* Make another list of five usernames called new_users. Make sure one or two of the new usernames are also in the current_users list.\n",
        "\n",
        "* Loop through the new_users list to see if each new username has already been used. If it has, print a message that the person will need to enter a new username. If a username has not been used, print a message saying that the username is available.\n",
        "\n",
        "* Make sure your comparison is case insensitive. If 'John' has been used, 'JOHN' should not be accepted.    "
      ]
    },
    {
      "cell_type": "markdown",
      "metadata": {
        "id": "yKlriswzkdqp"
      },
      "source": [
        "### Task11:\n",
        "Ordinal Numbers: Ordinal numbers indicate their position in a array, such as 1st or 2nd. Most ordinal numbers end in th, except 1, 2, and 3.\n",
        "* Store the numbers 1 through 9 in a array.\n",
        "\n",
        "* Loop through the array.\n",
        "\n",
        "* Use an if-else chain inside the loop to print the proper ordinal ending for each number. Your output should read \"1st 2nd 3rd 4th 5th 6th 7th 8th 9th\", and each result should be on a separate line.\n",
        "\n"
      ]
    },
    {
      "cell_type": "code",
      "execution_count": 21,
      "metadata": {
        "id": "GcJifmTtkdqp",
        "colab": {
          "base_uri": "https://localhost:8080/"
        },
        "outputId": "bb55f44b-2c80-46b9-9be2-baff0e0d6da2"
      },
      "outputs": [
        {
          "output_type": "stream",
          "name": "stdout",
          "text": [
            "Sorry, the username 'Sadia' is already taken. Please enter a new username.\n",
            "The username 'Farheen' is available.\n",
            "The username 'Omema' is available.\n",
            "Sorry, the username 'Maria' is already taken. Please enter a new username.\n",
            "Sorry, the username 'Zahida' is already taken. Please enter a new username.\n",
            "Sorry, the username 'Asma' is already taken. Please enter a new username.\n",
            "The username 'Kounain' is available.\n",
            "The username 'Alina' is available.\n"
          ]
        }
      ],
      "source": [
        "# List of current usernames\n",
        "current_users = [\"Sadia\",  \"Maria\", \"Zahida\", \"Asma\"]\n",
        "\n",
        "# List of new usernames to check\n",
        "new_users = [\"Sadia\", \"Farheen\", \"Omema\", \"Maria\", \"Zahida\", \"Asma\", \"Kounain\", \"Alina\"]\n",
        "\n",
        "# Convert current_users to lowercase for case-insensitive comparison\n",
        "current_users_lower = [user.lower() for user in current_users]\n",
        "\n",
        "# Loop through new_users to check for unique usernames\n",
        "for new_user in new_users:\n",
        "    if new_user.lower() in current_users_lower:\n",
        "        print(f\"Sorry, the username '{new_user}' is already taken. Please enter a new username.\")\n",
        "    else:\n",
        "        print(f\"The username '{new_user}' is available.\")\n"
      ]
    },
    {
      "cell_type": "markdown",
      "metadata": {
        "id": "Z-i9D_T9kdqp"
      },
      "source": [
        "### Task12:\n",
        "Animals: Think of at least three different animals that have a common characteristic. Store the names of these animals in a list, and then use a for loop to print out the name of each animal.\n",
        "* Modify your program to print a statement about each animal, such as A dog would make a great pet.\n",
        "* Add a line at the end of your program stating what these animals have in common. You could print a sentence such as Any of these animals would make a great pet!"
      ]
    },
    {
      "cell_type": "code",
      "execution_count": 22,
      "metadata": {
        "id": "M8cyBU3bkdqp",
        "colab": {
          "base_uri": "https://localhost:8080/"
        },
        "outputId": "cda69471-a789-4c05-d0f6-1e86c6b934f8"
      },
      "outputs": [
        {
          "output_type": "stream",
          "name": "stdout",
          "text": [
            "Names of the animals:\n",
            "Dog\n",
            "Cat\n",
            "Rabbit\n",
            "Parrot\n",
            "Hamster\n",
            "\n",
            "Statements about each animal:\n",
            "A Dog would make a great pet.\n",
            "A Cat can be a wonderful companion.\n",
            "A Rabbit is a cute and fluffy creature.\n",
            "A Parrot can mimic human speech.\n",
            "A Hamster is a small and low-maintenance pet.\n",
            "\n",
            "Any of these animals would make a great pet!\n"
          ]
        }
      ],
      "source": [
        "# List of animals\n",
        "animals = [\"Dog\", \"Cat\", \"Rabbit\", \"Parrot\", \"Hamster\"]\n",
        "\n",
        "# Print the names of each animal\n",
        "print(\"Names of the animals:\")\n",
        "for animal in animals:\n",
        "    print(animal)\n",
        "\n",
        "# Print a statement about each animal\n",
        "print(\"\\nStatements about each animal:\")\n",
        "for animal in animals:\n",
        "    if animal == \"Dog\":\n",
        "        print(f\"A {animal} would make a great pet.\")\n",
        "    elif animal == \"Cat\":\n",
        "        print(f\"A {animal} can be a wonderful companion.\")\n",
        "    elif animal == \"Rabbit\":\n",
        "        print(f\"A {animal} is a cute and fluffy creature.\")\n",
        "    elif animal == \"Parrot\":\n",
        "        print(f\"A {animal} can mimic human speech.\")\n",
        "    elif animal == \"Hamster\":\n",
        "        print(f\"A {animal} is a small and low-maintenance pet.\")\n",
        "\n",
        "# Print what these animals have in common\n",
        "print(\"\\nAny of these animals would make a great pet!\")\n"
      ]
    },
    {
      "cell_type": "markdown",
      "metadata": {
        "id": "hBKGoH_Nkdqp"
      },
      "source": [
        "### Task13:\n",
        "City Names: Write a function called `city_country()` that takes in the name of a city and its country. The function should return a string formatted like this:\n",
        "\n",
        "`\"Lahore, Pakistan\"`<br><br>\n",
        "Call your function with at least three city-country pairs, and print the value that’s returned."
      ]
    },
    {
      "cell_type": "code",
      "execution_count": 23,
      "metadata": {
        "id": "wsMmQqslkdqp",
        "colab": {
          "base_uri": "https://localhost:8080/"
        },
        "outputId": "2c400716-cff7-4ac5-d30c-c3ee950d4afb"
      },
      "outputs": [
        {
          "output_type": "stream",
          "name": "stdout",
          "text": [
            "Karachi, Pakistan\n",
            "New York, USA\n",
            "Paris, France\n",
            "Sydney, Australia\n",
            "Tokyo, Japan\n"
          ]
        }
      ],
      "source": [
        "def city_country(city, country):\n",
        "    \"\"\"Generate a formatted city-country string.\"\"\"\n",
        "    formatted_string = f\"{city}, {country}\"\n",
        "    return formatted_string\n",
        "\n",
        "# Call the function with different city-country pairs\n",
        "location1 = city_country(\"Karachi\", \"Pakistan\")\n",
        "location2 = city_country(\"New York\", \"USA\")\n",
        "location3 = city_country(\"Paris\", \"France\")\n",
        "location4 = city_country(\"Sydney\", \"Australia\")\n",
        "location5 = city_country(\"Tokyo\", \"Japan\")\n",
        "\n",
        "# Print the results\n",
        "print(location1)\n",
        "print(location2)\n",
        "print(location3)\n",
        "print(location4)\n",
        "print(location5)\n"
      ]
    },
    {
      "cell_type": "markdown",
      "metadata": {
        "id": "2b0keHKFkdqp"
      },
      "source": [
        "### Task14:\n",
        "Write a function called `make_tshirt()` where you can provide `size` and `custome_text`. The function should print a sentence summarizing the size of the shirt and the message printed on it. Call the function."
      ]
    },
    {
      "cell_type": "code",
      "execution_count": 24,
      "metadata": {
        "id": "jK4NRvjIkdqp",
        "colab": {
          "base_uri": "https://localhost:8080/"
        },
        "outputId": "c6f7b984-b247-4c1a-9e25-9d34ee38427b"
      },
      "outputs": [
        {
          "output_type": "stream",
          "name": "stdout",
          "text": [
            "You've ordered a Large t-shirt with the following custom text: 'I Love Python'\n"
          ]
        }
      ],
      "source": [
        "def make_tshirt(size, custom_text):\n",
        "    \"\"\"Print a summary of the t-shirt size and custom text.\"\"\"\n",
        "    print(f\"You've ordered a {size} t-shirt with the following custom text: '{custom_text}'\")\n",
        "\n",
        "# Call the function with size and custom text\n",
        "make_tshirt(\"Large\", \"I Love Python\")\n"
      ]
    },
    {
      "cell_type": "markdown",
      "metadata": {
        "id": "0V3zOAyfkdqp"
      },
      "source": [
        "### Task15:\n",
        "Write a function called `describe_city()` that accepts the name of a `city` and its `country`. The function should print a simple sentence, such as `Karachi is in Pakistan`. Give the parameter for the country a default value. Call your function for three different cities, at least one of which is not in the default country."
      ]
    },
    {
      "cell_type": "code",
      "execution_count": 25,
      "metadata": {
        "id": "nm3eU-Wskdqp",
        "colab": {
          "base_uri": "https://localhost:8080/"
        },
        "outputId": "5f967796-8a08-42bd-89d0-396a76e99bc3"
      },
      "outputs": [
        {
          "output_type": "stream",
          "name": "stdout",
          "text": [
            "New York is in USA\n",
            "London is in United Kingdom\n",
            "Paris is in France\n"
          ]
        }
      ],
      "source": [
        "def describe_city(city, country=\"USA\"):\n",
        "    print(f\"{city} is in {country}\")\n",
        "\n",
        "# Calling the function for three different cities\n",
        "describe_city(\"New York\")\n",
        "describe_city(\"London\", \"United Kingdom\")\n",
        "describe_city(\"Paris\", \"France\")\n"
      ]
    },
    {
      "cell_type": "markdown",
      "metadata": {
        "id": "GOYrKfKvkdqp"
      },
      "source": [
        "<hr>"
      ]
    },
    {
      "cell_type": "markdown",
      "metadata": {
        "id": "BHLnWmFGkdqq"
      },
      "source": [
        "# Theory Section"
      ]
    },
    {
      "cell_type": "markdown",
      "metadata": {
        "id": "vbplZrcgkdqq"
      },
      "source": [
        "# 16. Define functions and function types in python?"
      ]
    },
    {
      "cell_type": "markdown",
      "source": [
        "In Python, a function is a reusable block of code that performs a specific task or set of tasks. Functions are essential for organizing and structuring your code, as they allow you to break down complex tasks into smaller, more manageable pieces. Functions make your code more modular, readable, and maintainable.\n",
        "\n",
        "There are several types of functions in Python, including:\n",
        "\n",
        "**Built-in Functions**\n",
        "\n",
        "Built-in functions are part of Python's standard library and serve general-purpose tasks. Examples include print(), len(), input(), and range().\n",
        "\n",
        "**User-Defined Functions**\n",
        "\n",
        "User-defined functions are created by programmers to perform specific tasks. They are defined using the def keyword, followed by the function name and a code block.\n",
        "\n",
        "**Anonymous Functions (Lambda Functions)**\n",
        "\n",
        "Lambda functions are small, unnamed functions defined using the lambda keyword. They are typically used for simple operations and can be passed as arguments to other functions.\n",
        "\n",
        "**Recursive Functions**\n",
        "\n",
        "Recursive functions call themselves, either directly or indirectly, to solve problems. They are useful for tasks like calculating factorials and traversing hierarchical data structures.\n",
        "\n",
        "**Higher-Order Functions**\n",
        "\n",
        "Higher-order functions can accept functions as arguments and/or return functions as results. Python supports working with functions as first-class objects.\n",
        "\n",
        "**Methods**\n",
        "\n",
        "Methods are functions associated with objects. They are called using the dot notation on an object. For instance, append() is a method for lists, and capitalize() is a method for strings.\n",
        "\n",
        "**Generator Functions**\n",
        "\n",
        "Generator functions create iterators and use the yield keyword to yield values one at a time, allowing efficient iteration over potentially large sequences."
      ],
      "metadata": {
        "id": "NxveP1O25DrF"
      }
    },
    {
      "cell_type": "markdown",
      "metadata": {
        "id": "iwBdO157kdqq"
      },
      "source": [
        "# 17. Define loop and it types in python?"
      ]
    },
    {
      "cell_type": "markdown",
      "source": [
        "**Loop in Python**\n",
        "\n",
        "A loop in Python is a control structure that allows you to repeatedly execute a block of code. It is used to perform repetitive tasks or iterate over collections of data, such as lists, strings, or dictionaries. Loops help automate tasks, reduce code duplication, and make programs more efficient.\n",
        "\n",
        "Python provides two main types of loops:\n",
        "\n",
        "**For Loop**:\n",
        "\n",
        "A for loop is used to iterate over a sequence (such as a list, tuple, string, or range) and execute a block of code for each item in the sequence. The loop variable takes on the value of each item in the sequence in turn.\n",
        "\n",
        "**While Loop**:\n",
        "\n",
        "A while loop repeatedly executes a block of code as long as a specified condition is true. It is used when you don't know the number of iterations in advance but want to continue until a certain condition is met.\n",
        "\n",
        "Python also supports control statements like break and continue within loops to control their flow:\n",
        "\n",
        "break is used to exit a loop prematurely if a certain condition is met.\n",
        "continue is used to skip the current iteration and move to the next iteration of the loop.\n",
        "\n",
        "These two types of loops, for and while, are fundamental to controlling program flow and executing repetitive tasks in Python. Depending on your specific use case, you would choose between them to achieve the desired behavior in your code.\n",
        "\n",
        "\n",
        "\n",
        "\n",
        "\n"
      ],
      "metadata": {
        "id": "lnyHnCnG7IuD"
      }
    },
    {
      "cell_type": "markdown",
      "metadata": {
        "id": "1N_KslG8kdqq"
      },
      "source": [
        "# 18. Define Error types and how we can handle run time errors?"
      ]
    },
    {
      "cell_type": "markdown",
      "source": [
        "In programming, errors are issues or mistakes that can occur during the execution of a program. There are generally three main types of errors:\n",
        "\n",
        "Syntax Errors:\n",
        "\n",
        "These errors occur when the code violates the rules of the programming language's syntax.\n",
        "They are often detected by the Python interpreter before your program runs.\n",
        "Common examples include missing colons, unmatched parentheses, and typos in variable or function names.\n",
        "To fix syntax errors, carefully review your code for mistakes and correct them.\n",
        "\n",
        "**Runtime Errors (Exceptions)**:\n",
        "\n",
        "Runtime errors, also known as exceptions, occur while the program is running.\n",
        "They are caused by unexpected conditions or situations that the programmer may not have anticipated.\n",
        "Common examples include trying to access an element of a list that doesn't exist, dividing by zero, or attempting to open a file that doesn't exist.\n",
        "Handling runtime errors is crucial to prevent your program from crashing.\n",
        "\n",
        "**Logical Errors**:\n",
        "\n",
        "Logical errors, also known as bugs, are the most challenging to detect.\n",
        "These errors occur when the program's logic is incorrect, leading to unexpected or undesired behavior.\n",
        "Logical errors can result from flawed algorithms or incorrect calculations.\n",
        "Debugging, which involves systematically finding and fixing logical errors, is the way to address them.\n",
        "\n",
        "**Handling Runtime Errors**:\n",
        "\n",
        "To handle runtime errors (exceptions) in Python, you can use try-except blocks. Here's a simple explanation of how to do it:\n",
        "\n",
        "**Try Block**:\n",
        "\n",
        "Wrap the code that may raise an exception inside a try block.\n",
        "If an exception occurs within the try block, the program will jump to the associated except block.\n",
        "Except Block:\n",
        "\n",
        "In the except block, you can specify how to handle the exception.\n",
        "You can provide specific instructions or error messages to handle different types of exceptions."
      ],
      "metadata": {
        "id": "0z2o3FA88RCo"
      }
    },
    {
      "cell_type": "markdown",
      "metadata": {
        "id": "5u-YAz4mkdqq"
      },
      "source": [
        "# 19. Define four pillars of Object Oriented Programming?"
      ]
    },
    {
      "cell_type": "markdown",
      "source": [
        "The four pillars of Object-Oriented Programming (OOP) are fundamental principles that guide the design and organization of code in object-oriented programming languages like Python, Java, and C++. These principles help create modular, maintainable, and efficient software systems. The four pillars of OOP are:\n",
        "\n",
        "**Encapsulation**:\n",
        "\n",
        "Encapsulation is the practice of bundling data (attributes) and methods (functions) that operate on that data into a single unit called a \"class.\"\n",
        "It involves hiding the internal details of how a class works and exposing only the necessary methods and attributes to the outside world.\n",
        "Encapsulation helps in data protection and prevents unintended modification of data, promoting data integrity.\n",
        "\n",
        "**Inheritance**:\n",
        "\n",
        "Inheritance is a mechanism that allows a new class (a \"subclass\" or \"derived class\") to inherit properties and behaviors from an existing class (a \"base class\" or \"parent class\").\n",
        "It promotes code reusability by enabling the creation of new classes that inherit attributes and methods from existing classes.\n",
        "Inheritance establishes an \"is-a\" relationship, where a subclass is a specialized version of the base class.\n",
        "\n",
        "**Polymorphism**:\n",
        "\n",
        "Polymorphism means \"many shapes\" and refers to the ability of different classes to be treated as instances of a common superclass.\n",
        "It allows objects of different classes to respond to the same method call in a way that is appropriate for their individual types.\n",
        "Polymorphism simplifies code and makes it more flexible by enabling the use of generic interfaces that can work with various types of objects.\n",
        "\n",
        "**Abstraction**:\n",
        "\n",
        "Abstraction involves simplifying complex reality by modeling classes based on essential attributes and behaviors while ignoring unneeded details.\n",
        "It allows programmers to focus on what an object does rather than how it does it.\n",
        "\n",
        "Abstraction helps manage the complexity of large software systems by breaking them into manageable, understandable components.\n",
        "These four pillars of OOP provide a solid foundation for creating modular and maintainable code. They encourage code organization, reuse, and flexibility, making it easier to design and implement software systems that are both efficient and easy to understand.\n",
        "\n",
        "\n",
        "\n",
        "\n",
        "\n"
      ],
      "metadata": {
        "id": "Ayk67wM-9bj2"
      }
    },
    {
      "cell_type": "markdown",
      "metadata": {
        "id": "OmiTc2Ipkdqq"
      },
      "source": [
        "# 20. You can write about how you can use python in professional life. If you used python in your Office to solve any real-world probem."
      ]
    },
    {
      "cell_type": "markdown",
      "source": [
        "In my professional life, I find Python to be an incredibly valuable tool for a wide range of tasks, including data analysis and visualization. One example of how I use Python for data visualization is with the Matplotlib library.\n",
        "\n",
        "For instance, while working in the marketing department, I often gather data on website traffic over several months. I leverage Python and Matplotlib to create informative line charts and time series plots to visualize this data. These visualizations help me identify trends, such as spikes in website traffic during specific periods. This insight is crucial for planning marketing campaigns and optimizing website content to align with visitor trends, ultimately improving our overall marketing strategy. Python's flexibility and Matplotlib's capabilities make it a powerful combination for data visualization in my professional role.\n",
        "\n",
        "\n",
        "\n",
        "\n",
        "\n"
      ],
      "metadata": {
        "id": "uE3LDJEH9vgo"
      }
    }
  ],
  "metadata": {
    "kernelspec": {
      "display_name": "Python 3 (ipykernel)",
      "language": "python",
      "name": "python3"
    },
    "language_info": {
      "codemirror_mode": {
        "name": "ipython",
        "version": 3
      },
      "file_extension": ".py",
      "mimetype": "text/x-python",
      "name": "python",
      "nbconvert_exporter": "python",
      "pygments_lexer": "ipython3",
      "version": "3.9.7"
    },
    "colab": {
      "provenance": [],
      "include_colab_link": true
    }
  },
  "nbformat": 4,
  "nbformat_minor": 0
}