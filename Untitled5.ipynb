{
  "nbformat": 4,
  "nbformat_minor": 0,
  "metadata": {
    "colab": {
      "provenance": [],
      "authorship_tag": "ABX9TyMUadN6iN4n/C38QgpEa9yt",
      "include_colab_link": true
    },
    "kernelspec": {
      "name": "python3",
      "display_name": "Python 3"
    },
    "language_info": {
      "name": "python"
    }
  },
  "cells": [
    {
      "cell_type": "markdown",
      "metadata": {
        "id": "view-in-github",
        "colab_type": "text"
      },
      "source": [
        "<a href=\"https://colab.research.google.com/github/omemaakhtar/Repo-Bank/blob/main/Untitled5.ipynb\" target=\"_parent\"><img src=\"https://colab.research.google.com/assets/colab-badge.svg\" alt=\"Open In Colab\"/></a>"
      ]
    },
    {
      "cell_type": "code",
      "execution_count": 6,
      "metadata": {
        "colab": {
          "base_uri": "https://localhost:8080/"
        },
        "id": "ONr9SzSaRctz",
        "outputId": "53107148-69d0-4145-ee0e-665549e6f4db"
      },
      "outputs": [
        {
          "output_type": "stream",
          "name": "stdout",
          "text": [
            "enter your age12\n",
            "Not Eligble\n"
          ]
        }
      ],
      "source": [
        "age = int(input(\"enter your age\"))\n",
        "if age > 18 :\n",
        "    print (\"Eligble\")\n",
        "else:\n",
        "     print(\"Not Eligble\")"
      ]
    },
    {
      "cell_type": "code",
      "source": [
        "n = int(input(\"enter the number\"))\n",
        "if n %2==0:\n",
        "    print (\"even\")\n",
        "else:\n",
        "    print(\"odd\")"
      ],
      "metadata": {
        "colab": {
          "base_uri": "https://localhost:8080/"
        },
        "id": "mI494oGQSiwR",
        "outputId": "a8fbedc3-a030-49f3-96f6-5afa02cd03a1"
      },
      "execution_count": 9,
      "outputs": [
        {
          "output_type": "stream",
          "name": "stdout",
          "text": [
            "enter the number5\n",
            "odd\n"
          ]
        }
      ]
    },
    {
      "cell_type": "code",
      "source": [
        "n = int(input(\"Enter your number\"))\n",
        "if n % 7 == 0 :\n",
        "   print(\"divisible by 7\")\n",
        "else :\n",
        "   print(\"not divisible\")"
      ],
      "metadata": {
        "colab": {
          "base_uri": "https://localhost:8080/"
        },
        "id": "Rs0u18ayTWcO",
        "outputId": "8efae858-f3c1-473a-fb6e-29110034f248"
      },
      "execution_count": 12,
      "outputs": [
        {
          "output_type": "stream",
          "name": "stdout",
          "text": [
            "Enter your number21\n",
            "divisible by 7\n"
          ]
        }
      ]
    },
    {
      "cell_type": "code",
      "source": [
        "n = int(input(\"Enter your number\"))\n",
        "if n % 5 == 0:\n",
        "    print(\"hello\")\n",
        "else:\n",
        "    print(\"bye\")"
      ],
      "metadata": {
        "colab": {
          "base_uri": "https://localhost:8080/"
        },
        "id": "Gp-MA3xCT5qu",
        "outputId": "0ea9e6f8-0d73-4e00-ce74-6fef7fa83d2f"
      },
      "execution_count": 14,
      "outputs": [
        {
          "output_type": "stream",
          "name": "stdout",
          "text": [
            "Enter your number11\n",
            "bye\n"
          ]
        }
      ]
    },
    {
      "cell_type": "code",
      "source": [
        "n = int(input(\"Enter units here\"))\n",
        "if n <=100:\n",
        "    amt=0\n",
        "elif 100 <= n <= 200:\n",
        "    amt=(n-100)*5\n",
        "else:\n",
        "    amt=500+(n-200)*10\n",
        "print(\"amount to pay:\",amt)\n"
      ],
      "metadata": {
        "colab": {
          "base_uri": "https://localhost:8080/"
        },
        "id": "fqz4ydJPUdwO",
        "outputId": "dce905ca-b78d-4ae4-fe6f-3df90c032f4c"
      },
      "execution_count": 30,
      "outputs": [
        {
          "output_type": "stream",
          "name": "stdout",
          "text": [
            "Enter units here160\n",
            "amount to pay: 300\n"
          ]
        }
      ]
    },
    {
      "cell_type": "code",
      "source": [
        "{ print(\"\"1\"\"+\"\"8\"\") }"
      ],
      "metadata": {
        "colab": {
          "base_uri": "https://localhost:8080/",
          "height": 140
        },
        "id": "35b-VrmEIvcv",
        "outputId": "62e5914d-a7bf-4a28-eef4-a70ecfd3fe96"
      },
      "execution_count": 1,
      "outputs": [
        {
          "output_type": "error",
          "ename": "SyntaxError",
          "evalue": "ignored",
          "traceback": [
            "\u001b[0;36m  File \u001b[0;32m\"<ipython-input-1-01d893ae4beb>\"\u001b[0;36m, line \u001b[0;32m1\u001b[0m\n\u001b[0;31m    { print(\"\"1\"\"+\"\"8\"\") }\u001b[0m\n\u001b[0m            ^\u001b[0m\n\u001b[0;31mSyntaxError\u001b[0m\u001b[0;31m:\u001b[0m invalid syntax. Perhaps you forgot a comma?\n"
          ]
        }
      ]
    },
    {
      "cell_type": "code",
      "source": [],
      "metadata": {
        "id": "zDf9cta3WTWO"
      },
      "execution_count": null,
      "outputs": []
    },
    {
      "cell_type": "code",
      "source": [
        "n = int(input(\"Enter units here\"))\n",
        "\n",
        "# Use \"if\", \"elif\", and \"else\" to handle all cases\n",
        "if n <= 100:\n",
        "    amt = 0\n",
        "elif 100 <= n <= 200:\n",
        "    amt = (n - 100) * 5\n",
        "else:\n",
        "    amt = 500 + (n - 200) * 10\n",
        "\n",
        "# Unindent the \"print\" statement to execute it for all cases\n",
        "print(\"Amount to pay:\", amt)\n",
        "\n"
      ],
      "metadata": {
        "colab": {
          "base_uri": "https://localhost:8080/"
        },
        "id": "2KUQZWSVYdho",
        "outputId": "abe7cd9f-3932-4355-b9bb-d46ab9928c74"
      },
      "execution_count": 28,
      "outputs": [
        {
          "output_type": "stream",
          "name": "stdout",
          "text": [
            "Enter units here22\n",
            "Amount to pay: 0\n"
          ]
        }
      ]
    },
    {
      "cell_type": "code",
      "source": [
        "n = int(input(\"enter number here\"))\n",
        "id = n%10\n",
        "if id %3==0:\n",
        "  print(\"divisible by 3\")\n",
        "else:\n",
        "  print(\"Not divisble by 3\")"
      ],
      "metadata": {
        "colab": {
          "base_uri": "https://localhost:8080/"
        },
        "id": "6vio4yl-WUxe",
        "outputId": "290272ce-cacb-462b-9893-7e6cdfbaf1e4"
      },
      "execution_count": 10,
      "outputs": [
        {
          "output_type": "stream",
          "name": "stdout",
          "text": [
            "enter number here74\n",
            "Not divisble by 3\n"
          ]
        }
      ]
    },
    {
      "cell_type": "code",
      "source": [
        "a = int(input())\n",
        "b = int(input())\n",
        "integer_division = a // b\n",
        "print(integer_division)\n",
        "float_division = a / b\n",
        "print(float_division)"
      ],
      "metadata": {
        "colab": {
          "base_uri": "https://localhost:8080/"
        },
        "id": "B9OqpbZzdzu6",
        "outputId": "3310789d-add9-4122-ba72-55b0e79f246f"
      },
      "execution_count": 13,
      "outputs": [
        {
          "output_type": "stream",
          "name": "stdout",
          "text": [
            "3\n",
            "2\n",
            "1\n",
            "1.5\n"
          ]
        }
      ]
    },
    {
      "cell_type": "code",
      "source": [
        "a= int(input())\n",
        "b= int(input())\n",
        "integer_addition = a + b\n",
        "print(integer_addition)\n",
        "integer_subtraction = a - b\n",
        "print(integer_subtraction)\n",
        "integer_product = a * b\n",
        "print(integer_product)"
      ],
      "metadata": {
        "colab": {
          "base_uri": "https://localhost:8080/"
        },
        "id": "xFvJQtJve4IC",
        "outputId": "1054b686-6194-419b-bcec-0897a62f5777"
      },
      "execution_count": 17,
      "outputs": [
        {
          "output_type": "stream",
          "name": "stdout",
          "text": [
            "2\n",
            "6\n",
            "8\n",
            "-4\n",
            "12\n"
          ]
        }
      ]
    },
    {
      "cell_type": "code",
      "source": [
        "j = 7\n",
        "while(j <= 15):\n",
        "    print(j)\n",
        "    j = j + 1"
      ],
      "metadata": {
        "colab": {
          "base_uri": "https://localhost:8080/"
        },
        "id": "fRvshbIXcjM6",
        "outputId": "81aa7043-a045-4174-d055-ac401e73976c"
      },
      "execution_count": 3,
      "outputs": [
        {
          "output_type": "stream",
          "name": "stdout",
          "text": [
            "7\n",
            "8\n",
            "9\n",
            "10\n",
            "11\n",
            "12\n",
            "13\n",
            "14\n",
            "15\n"
          ]
        }
      ]
    },
    {
      "cell_type": "code",
      "source": [
        "n = int(input())\n",
        "if n > 90:\n",
        "  print(\"A Grade\")\n",
        "elif 80<= n <= 90:\n",
        "  print(\"B Grade\")\n",
        "elif 60<= n <= 80:\n",
        "  print(\"C Grade\")\n",
        "else:\n",
        "  print(\"Fail\")"
      ],
      "metadata": {
        "colab": {
          "base_uri": "https://localhost:8080/"
        },
        "id": "b0GBm9TpiB8m",
        "outputId": "3a1d86c0-d51f-42f9-f281-d46d2843909d"
      },
      "execution_count": 21,
      "outputs": [
        {
          "output_type": "stream",
          "name": "stdout",
          "text": [
            "74\n",
            "C Grade\n"
          ]
        }
      ]
    },
    {
      "cell_type": "code",
      "source": [
        "cp = int(input())\n",
        "if cp > 100000 :\n",
        "    print(cp * 0.15)\n",
        "elif 50000 <= cp <= 100000 :\n",
        "    print(cp * 0.10)\n",
        "elif cp == 50000:\n",
        "    print(cp * 0.05)\n",
        "else:\n",
        "    print(\"No tax\")"
      ],
      "metadata": {
        "colab": {
          "base_uri": "https://localhost:8080/"
        },
        "id": "UyD-lySRkVuu",
        "outputId": "65788f66-3a09-493d-8cb6-0c8afefe2ef8"
      },
      "execution_count": 31,
      "outputs": [
        {
          "output_type": "stream",
          "name": "stdout",
          "text": [
            "150000\n",
            "22500.0\n"
          ]
        }
      ]
    },
    {
      "cell_type": "code",
      "source": [
        "year = str(input())\n",
        "if year == february :\n",
        "  print(\"Leap year\")\n",
        "else:\n",
        "  print(\"Not a leap year\")"
      ],
      "metadata": {
        "colab": {
          "base_uri": "https://localhost:8080/",
          "height": 262
        },
        "id": "lHkCtbwOl-iF",
        "outputId": "7a920168-9fca-4113-9be9-0909d9465b70"
      },
      "execution_count": 32,
      "outputs": [
        {
          "name": "stdout",
          "output_type": "stream",
          "text": [
            "March\n"
          ]
        },
        {
          "output_type": "error",
          "ename": "NameError",
          "evalue": "ignored",
          "traceback": [
            "\u001b[0;31m---------------------------------------------------------------------------\u001b[0m",
            "\u001b[0;31mNameError\u001b[0m                                 Traceback (most recent call last)",
            "\u001b[0;32m<ipython-input-32-f7906c8ed389>\u001b[0m in \u001b[0;36m<cell line: 2>\u001b[0;34m()\u001b[0m\n\u001b[1;32m      1\u001b[0m \u001b[0myear\u001b[0m \u001b[0;34m=\u001b[0m \u001b[0mstr\u001b[0m\u001b[0;34m(\u001b[0m\u001b[0minput\u001b[0m\u001b[0;34m(\u001b[0m\u001b[0;34m)\u001b[0m\u001b[0;34m)\u001b[0m\u001b[0;34m\u001b[0m\u001b[0;34m\u001b[0m\u001b[0m\n\u001b[0;32m----> 2\u001b[0;31m \u001b[0;32mif\u001b[0m \u001b[0myear\u001b[0m \u001b[0;34m==\u001b[0m \u001b[0mfebruary\u001b[0m \u001b[0;34m:\u001b[0m\u001b[0;34m\u001b[0m\u001b[0;34m\u001b[0m\u001b[0m\n\u001b[0m\u001b[1;32m      3\u001b[0m   \u001b[0mprint\u001b[0m\u001b[0;34m(\u001b[0m\u001b[0;34m\"Leap year\"\u001b[0m\u001b[0;34m)\u001b[0m\u001b[0;34m\u001b[0m\u001b[0;34m\u001b[0m\u001b[0m\n\u001b[1;32m      4\u001b[0m \u001b[0;32melse\u001b[0m\u001b[0;34m:\u001b[0m\u001b[0;34m\u001b[0m\u001b[0;34m\u001b[0m\u001b[0m\n\u001b[1;32m      5\u001b[0m   \u001b[0mprint\u001b[0m\u001b[0;34m(\u001b[0m\u001b[0;34m\"Not a leap year\"\u001b[0m\u001b[0;34m)\u001b[0m\u001b[0;34m\u001b[0m\u001b[0;34m\u001b[0m\u001b[0m\n",
            "\u001b[0;31mNameError\u001b[0m: name 'february' is not defined"
          ]
        }
      ]
    }
  ]
}