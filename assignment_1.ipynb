{
  "nbformat": 4,
  "nbformat_minor": 0,
  "metadata": {
    "colab": {
      "provenance": [],
      "authorship_tag": "ABX9TyOo2Iyy4i24y6a6ZzCRy+7R",
      "include_colab_link": true
    },
    "kernelspec": {
      "name": "python3",
      "display_name": "Python 3"
    },
    "language_info": {
      "name": "python"
    }
  },
  "cells": [
    {
      "cell_type": "markdown",
      "metadata": {
        "id": "view-in-github",
        "colab_type": "text"
      },
      "source": [
        "<a href=\"https://colab.research.google.com/github/omemaakhtar/Repo-Bank/blob/main/assignment_1.ipynb\" target=\"_parent\"><img src=\"https://colab.research.google.com/assets/colab-badge.svg\" alt=\"Open In Colab\"/></a>"
      ]
    },
    {
      "cell_type": "code",
      "execution_count": null,
      "metadata": {
        "colab": {
          "base_uri": "https://localhost:8080/"
        },
        "id": "igVJiCAcE_p-",
        "outputId": "8a231c05-8e3a-4b11-e25b-22d44a6fac0d"
      },
      "outputs": [
        {
          "output_type": "stream",
          "name": "stdout",
          "text": [
            "My name is Omema Akhtar, I am 36 years old and I live in Pakistan\n"
          ]
        }
      ],
      "source": [
        "name = \" Omema Akhtar\"\n",
        "age = \"36\"\n",
        "country = \"Pakistan\"\n",
        "print (\"My name is\" + name + \", I am \" +age +\" years old and I live in \"+ country)\n"
      ]
    },
    {
      "cell_type": "markdown",
      "source": [
        "Assignment 2"
      ],
      "metadata": {
        "id": "jNEOY2lHrn8G"
      }
    },
    {
      "cell_type": "code",
      "source": [
        "item = \"bags\"\n",
        "price = 100\n",
        "quantity = 10\n",
        "total_cost = price * quantity\n",
        "comp_text = \"I bought {} {}s at {} for a total of $ {}\" .format(quantity, item, price, total_cost)\n",
        "print (comp_text)\n"
      ],
      "metadata": {
        "colab": {
          "base_uri": "https://localhost:8080/"
        },
        "id": "GC2YuksAHHz9",
        "outputId": "cca980c0-12d3-443b-bb94-f11c1fcacb2b"
      },
      "execution_count": null,
      "outputs": [
        {
          "output_type": "stream",
          "name": "stdout",
          "text": [
            "I bought 10 bagss at 100 for a total of $ 1000\n"
          ]
        }
      ]
    },
    {
      "cell_type": "markdown",
      "source": [
        "Assignment 3"
      ],
      "metadata": {
        "id": "lp0_XvgZrI73"
      }
    },
    {
      "cell_type": "code",
      "source": [
        "city = \"Karachi\"\n",
        "temprature = 35\n",
        "text = f\"Temprature in {city} is {temprature} degree celcius\"\n",
        "print(text)\n"
      ],
      "metadata": {
        "colab": {
          "base_uri": "https://localhost:8080/"
        },
        "id": "69nt1dm2rLg_",
        "outputId": "d5737496-2b2c-4942-fe47-b70bb2105fd1"
      },
      "execution_count": null,
      "outputs": [
        {
          "output_type": "stream",
          "name": "stdout",
          "text": [
            "Temprature in Karachi is 35 degree celcius\n"
          ]
        }
      ]
    },
    {
      "cell_type": "markdown",
      "source": [
        "Assignment 4\n"
      ],
      "metadata": {
        "id": "fAKzYyu-KbOu"
      }
    },
    {
      "cell_type": "code",
      "source": [
        "city = \"Karachi\"\n",
        "first_name = \"Omema\"\n",
        "last_name = \"Akhtar\"\n",
        "birth_year = 1987\n",
        "current_year = 2023\n",
        "age = current_year - birth_year\n",
        "bio_data = \"My name is %s %s. I am %d years old\"%(first_name, last_name,age)\n",
        "print(bio_data)\n",
        "\n",
        "\n"
      ],
      "metadata": {
        "colab": {
          "base_uri": "https://localhost:8080/"
        },
        "id": "B4mPW8E_KgQk",
        "outputId": "bb56c1a1-488b-4248-aa26-57861c61dac6"
      },
      "execution_count": null,
      "outputs": [
        {
          "output_type": "stream",
          "name": "stdout",
          "text": [
            "My name is Omema Akhtar. I am 36 years old\n"
          ]
        }
      ]
    },
    {
      "cell_type": "markdown",
      "source": [
        "Assignment 5\n",
        "\n"
      ],
      "metadata": {
        "id": "H63NJR1Wmf4X"
      }
    },
    {
      "cell_type": "code",
      "source": [
        "product = \"perfume\"\n",
        "discount = 10\n",
        "original_price = 25\n",
        "discounted_price = original_price * (1 - discount /100)\n",
        "text = f\"product: {product}\\noriginal_price : PKR{original_price: .2f} \\ndiscount : {discount}%\\ndiscounted_price: PKR {discounted_price: .2f}\"\n",
        "print (text)"
      ],
      "metadata": {
        "colab": {
          "base_uri": "https://localhost:8080/"
        },
        "id": "LxEmMeE3miA-",
        "outputId": "5c8aa3a8-ceb2-4518-b473-c4abd156a8ab"
      },
      "execution_count": null,
      "outputs": [
        {
          "output_type": "stream",
          "name": "stdout",
          "text": [
            "product: perfume\n",
            "original_price : PKR 25.00 \n",
            "discount : 10%\n",
            "discounted_price: PKR  22.50\n"
          ]
        }
      ]
    }
  ]
}